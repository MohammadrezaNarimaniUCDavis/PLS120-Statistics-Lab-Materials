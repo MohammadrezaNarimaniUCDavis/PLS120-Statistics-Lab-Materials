{
 "cells": [
  {
   "cell_type": "markdown",
   "metadata": {},
   "source": [
    "# Week 1: Introduction to Statistics and R 🌾\n",
    "\n",
    "**PLS 120 - Applied Statistics in Agriculture**\n",
    "\n",
    "Welcome to R! This is your first interactive R notebook. You can run code cells by clicking the \"Run\" button or pressing Shift+Enter."
   ]
  },
  {
   "cell_type": "markdown",
   "metadata": {},
   "source": [
    "## R as a Calculator\n",
    "\n",
    "Let's start with basic arithmetic operations:"
   ]
  },
  {
   "cell_type": "code",
   "execution_count": null,
   "metadata": {},
   "outputs": [],
   "source": [
    "# Addition\n",
    "2 + 3"
   ]
  },
  {
   "cell_type": "code",
   "execution_count": null,
   "metadata": {},
   "outputs": [],
   "source": [
    "# Subtraction\n",
    "10 - 4"
   ]
  },
  {
   "cell_type": "code",
   "execution_count": null,
   "metadata": {},
   "outputs": [],
   "source": [
    "# Multiplication\n",
    "5 * 6"
   ]
  },
  {
   "cell_type": "code",
   "execution_count": null,
   "metadata": {},
   "outputs": [],
   "source": [
    "# Division\n",
    "20 / 4"
   ]
  },
  {
   "cell_type": "code",
   "execution_count": null,
   "metadata": {},
   "outputs": [],
   "source": [
    "# Exponentiation\n",
    "2^3"
   ]
  },
  {
   "cell_type": "code",
   "execution_count": null,
   "metadata": {},
   "outputs": [],
   "source": [
    "# Square root\n",
    "sqrt(16)"
   ]
  },
  {
   "cell_type": "markdown",
   "metadata": {},
   "source": [
    "## Creating Variables\n",
    "\n",
    "In R, we can store values in variables using the assignment operator `<-`:"
   ]
  },
  {
   "cell_type": "code",
   "execution_count": null,
   "metadata": {},
   "outputs": [],
   "source": [
    "# Store crop yield data\n",
    "wheat_yield <- 4.2\n",
    "corn_yield <- 8.5\n",
    "soybean_yield <- 3.1\n",
    "\n",
    "# Display the values\n",
    "wheat_yield\n",
    "corn_yield\n",
    "soybean_yield"
   ]
  },
  {
   "cell_type": "code",
   "execution_count": null,
   "metadata": {},
   "outputs": [],
   "source": [
    "# Calculate total yield\n",
    "total_yield <- wheat_yield + corn_yield + soybean_yield\n",
    "total_yield"
   ]
  },
  {
   "cell_type": "markdown",
   "metadata": {},
   "source": [
    "## Working with Vectors\n",
    "\n",
    "Vectors are collections of values. Very useful for agricultural data!"
   ]
  },
  {
   "cell_type": "code",
   "execution_count": null,
   "metadata": {},
   "outputs": [],
   "source": [
    "# Create a vector of plant heights (in cm)\n",
    "plant_heights <- c(25, 30, 28, 32, 27, 29, 31, 26)\n",
    "plant_heights"
   ]
  },
  {
   "cell_type": "code",
   "execution_count": null,
   "metadata": {},
   "outputs": [],
   "source": [
    "# Calculate basic statistics\n",
    "mean(plant_heights)      # Average height\n",
    "max(plant_heights)       # Tallest plant\n",
    "min(plant_heights)       # Shortest plant\n",
    "length(plant_heights)    # Number of plants"
   ]
  },
  {
   "cell_type": "markdown",
   "metadata": {},
   "source": [
    "## Fun Agricultural Calculator 🚜\n",
    "\n",
    "Let's create some useful agricultural calculations:"
   ]
  },
  {
   "cell_type": "code",
   "execution_count": null,
   "metadata": {},
   "outputs": [],
   "source": [
    "# Farm area calculation\n",
    "field_length <- 100  # meters\n",
    "field_width <- 50    # meters\n",
    "field_area <- field_length * field_width\n",
    "cat(\"Field area:\", field_area, \"square meters\\n\")\n",
    "\n",
    "# Convert to hectares (1 hectare = 10,000 m²)\n",
    "field_hectares <- field_area / 10000\n",
    "cat(\"Field area:\", field_hectares, \"hectares\\n\")"
   ]
  },
  {
   "cell_type": "code",
   "execution_count": null,
   "metadata": {},
   "outputs": [],
   "source": [
    "# Seed calculation\n",
    "seeds_per_sqm <- 200\n",
    "total_seeds_needed <- field_area * seeds_per_sqm\n",
    "cat(\"Total seeds needed:\", total_seeds_needed, \"seeds\\n\")\n",
    "\n",
    "# Convert to kg (assuming 1000 seeds = 50g)\n",
    "seed_weight_kg <- (total_seeds_needed / 1000) * 0.05\n",
    "cat(\"Seed weight needed:\", seed_weight_kg, \"kg\\n\")"
   ]
  },
  {
   "cell_type": "markdown",
   "metadata": {},
   "source": [
    "## Your Turn! 🌱\n",
    "\n",
    "**Exercise 1:** Calculate fertilizer needed"
   ]
  },
  {
   "cell_type": "code",
   "execution_count": null,
   "metadata": {},
   "outputs": [],
   "source": [
    "# If you need 150 kg of fertilizer per hectare, \n",
    "# how much do you need for a 2.5 hectare field?\n",
    "\n",
    "hectares <- 2.5\n",
    "fertilizer_per_hectare <- 150\n",
    "total_fertilizer <- # Complete this calculation\n",
    "\n",
    "# Uncomment the line below when you're done:\n",
    "# cat(\"Total fertilizer needed:\", total_fertilizer, \"kg\\n\")"
   ]
  },
  {
   "cell_type": "markdown",
   "metadata": {},
   "source": [
    "**Exercise 2:** Crop yield comparison"
   ]
  },
  {
   "cell_type": "code",
   "execution_count": null,
   "metadata": {},
   "outputs": [],
   "source": [
    "# Create vectors for yields of three varieties\n",
    "variety_A <- c(4.2, 4.5, 4.1, 4.3, 4.4)\n",
    "variety_B <- c(3.8, 4.0, 3.9, 4.1, 3.7)\n",
    "variety_C <- c(4.6, 4.8, 4.4, 4.7, 4.5)\n",
    "\n",
    "# Calculate the average yield for each variety\n",
    "avg_A <- # Complete this\n",
    "avg_B <- # Complete this  \n",
    "avg_C <- # Complete this\n",
    "\n",
    "# Which variety has the highest average yield?"
   ]
  },
  {
   "cell_type": "markdown",
   "metadata": {},
   "source": [
    "## Loading Data\n",
    "\n",
    "Let's load some real agricultural data:"
   ]
  },
  {
   "cell_type": "code",
   "execution_count": null,
   "metadata": {},
   "outputs": [],
   "source": [
    "# Load the sample crop data\n",
    "crop_data <- read.csv(\"sample_crop_data.csv\")\n",
    "\n",
    "# Display first few rows\n",
    "head(crop_data)"
   ]
  },
  {
   "cell_type": "code",
   "execution_count": null,
   "metadata": {},
   "outputs": [],
   "source": [
    "# Get basic information about the dataset\n",
    "str(crop_data)\n",
    "summary(crop_data)"
   ]
  },
  {
   "cell_type": "markdown",
   "metadata": {},
   "source": [
    "## Simple Visualization 📊"
   ]
  },
  {
   "cell_type": "code",
   "execution_count": null,
   "metadata": {},
   "outputs": [],
   "source": [
    "# Create a simple histogram of yields\n",
    "hist(crop_data$yield, \n",
    "     main = \"Distribution of Crop Yields\",\n",
    "     xlab = \"Yield (tons/ha)\",\n",
    "     col = \"lightgreen\",\n",
    "     border = \"darkgreen\")"
   ]
  },
  {
   "cell_type": "markdown",
   "metadata": {},
   "source": [
    "## Congratulations! 🎉\n",
    "\n",
    "You've completed Week 1! You learned:\n",
    "- ✅ Basic R arithmetic\n",
    "- ✅ Creating variables and vectors\n",
    "- ✅ Agricultural calculations\n",
    "- ✅ Loading and exploring data\n",
    "- ✅ Creating simple plots\n",
    "\n",
    "**Next week:** We'll dive deeper into descriptive statistics and data visualization!"
   ]
  }
 ],
 "metadata": {
  "kernelspec": {
   "display_name": "R",
   "language": "R",
   "name": "ir"
  },
  "language_info": {
   "codemirror_mode": "r",
   "file_extension": ".r",
   "mimetype": "text/x-r-source",
   "name": "R",
   "pygments_lexer": "r",
   "version": "4.3.0"
  }
 },
 "nbformat": 4,
 "nbformat_minor": 4
}