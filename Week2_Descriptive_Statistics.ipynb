{
 "cells": [
  {
   "cell_type": "markdown",
   "metadata": {},
   "source": [
    "# Week 2: Descriptive Statistics 📊\n",
    "\n",
    "**PLS 120 - Applied Statistics in Agriculture**\n",
    "\n",
    "This week we'll explore how to summarize and visualize agricultural data."
   ]
  },
  {
   "cell_type": "markdown",
   "metadata": {},
   "source": [
    "## Coming Soon!\n",
    "\n",
    "Week 2 content is under development. This will include:\n",
    "- Measures of central tendency\n",
    "- Variability and dispersion\n",
    "- Data visualization with ggplot2\n",
    "- Agricultural data examples"
   ]
  }
 ],
 "metadata": {
  "kernelspec": {
   "display_name": "R",
   "language": "R",
   "name": "ir"
  },
  "language_info": {
   "name": "R"
  }
 },
 "nbformat": 4,
 "nbformat_minor": 4
}