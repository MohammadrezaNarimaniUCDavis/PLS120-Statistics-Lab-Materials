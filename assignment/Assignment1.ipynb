{
 "cells": [
  {
   "cell_type": "markdown",
   "metadata": {},
   "source": [
    "# 📋 PLS 120 Assignment 1\n",
    "**Applied Statistics in Agriculture**\n",
    "\n",
    "**Binder Developer:** Mohammadreza Narimani  \n",
    "**Assignment Developer:** Parastoo Farajpoor  \n",
    "**Original Author:** Will Hazzard  \n",
    "**Date:** 2024-09-30\n",
    "\n",
    "---\n",
    "\n",
    "**Student Information:**\n",
    "- **Name:** [YOUR NAME]\n",
    "- **Student ID:** [STUDENT ID NUMBER]\n",
    "- **Date:** [Today's DATE]"
   ]
  },
  {
   "cell_type": "markdown",
   "metadata": {},
   "source": [
    "## 📖 Assignment Instructions\n",
    "\n",
    "You will be writing code into code cells and providing written answers in markdown cells. \n",
    "\n",
    "For this assignment, use the LA Crime dataset, which examines crime statistics in Los Angeles on September 1st, 2023. The original dataset comprises more than 800,000 entries, but has been narrowed down to data from just one day, focusing solely on individuals identified as female (F) or male (M). \n",
    "\n",
    "The dataset consists of two columns:\n",
    "- **\"Vict.Age\"**: Age of the victim\n",
    "- **\"Vict.Sex\"**: Gender of the victim (F/M)\n",
    "\n",
    "This reduced dataset contains a total of 555 rows.\n",
    "\n",
    "**Data Source:** https://catalog.data.gov/dataset/crime-data-from-2020-to-present"
   ]
  },
  {
   "cell_type": "markdown",
   "metadata": {},
   "source": [
    "## 📚 Setup: Load Required Libraries\n",
    "\n",
    "**Good news!** We've already installed the required packages for you in this Binder environment."
   ]
  },
  {
   "cell_type": "code",
   "execution_count": null,
   "metadata": {},
   "outputs": [],
   "source": [
    "# Load required libraries (already installed for you in Binder!)\n",
    "suppressPackageStartupMessages({\n",
    "  library(tidyverse)\n",
    "  library(knitr)\n",
    "})\n",
    "cat(\"✅ Libraries loaded successfully!\")"
   ]
  },
  {
   "cell_type": "markdown",
   "metadata": {},
   "source": [
    "---\n",
    "\n",
    "## 📊 PART 1: Load the Data\n",
    "\n",
    "Load the LA Crime data into R for use in the rest of the assignment."
   ]
  },
  {
   "cell_type": "code",
   "execution_count": null,
   "metadata": {},
   "outputs": [],
   "source": [
    "# Load the data into R\n",
    "# Hint: Use read.csv() function with \"LA_Data.csv\"\n",
    "crime_stats <- \n",
    "\n",
    "# Examine the data structure\n",
    "# Hint: Use str() function to see data types and structure\n",
    "str(crime_stats)"
   ]
  },
  {
   "cell_type": "markdown",
   "metadata": {},
   "source": [
    "### 📝 Questions for Part 1\n",
    "\n",
    "The `str()` function tells you about data types, levels, and dimensions of your data frame. Using the output above, answer the following questions:"
   ]
  },
  {
   "cell_type": "markdown",
   "metadata": {},
   "source": [
    "**Question 1.1:** What type of data is \"Vict.Age\"? How many observations does it have?\n",
    "\n",
    "*Your answer here:*\n"
   ]
  },
  {
   "cell_type": "markdown",
   "metadata": {},
   "source": [
    "**Question 1.2:** What type of data is \"Vict.Sex\"? What are the unique values?\n",
    "\n",
    "*Your answer here:*\n"
   ]
  },
  {
   "cell_type": "markdown",
   "metadata": {},
   "source": [
    "---\n",
    "\n",
    "## 📈 PART 2: Create Frequency Table and Histogram\n",
    "\n",
    "Visualization is often a good way to observe macro-level trends in datasets. A histogram visualizes the number of occurrences of particular data points. You will create a histogram based on the ages of victims in the dataset."
   ]
  },
  {
   "cell_type": "code",
   "execution_count": null,
   "metadata": {},
   "outputs": [],
   "source": [
    "# Create a frequency table with ages divided into groups\n",
    "# Hint: Use table() and cut() functions with seq(0, 100, 10) for age ranges\n",
    "frequency_table <- table(crime_stats$Vict.Sex, cut(crime_stats$Vict.Age, seq(0, 100, 10)))\n",
    "frequency_table"
   ]
  },
  {
   "cell_type": "code",
   "execution_count": null,
   "metadata": {},
   "outputs": [],
   "source": [
    "# Create a histogram with 10 bins\n",
    "# Hint: Use hist() function with breaks = 10\n",
    "hist(crime_stats$Vict.Age, breaks = 10, \n",
    "     main = \"Distribution of Victim Ages\",\n",
    "     xlab = \"Age\",\n",
    "     col = \"lightblue\")"
   ]
  },
  {
   "cell_type": "markdown",
   "metadata": {},
   "source": [
    "### 📝 Questions for Part 2"
   ]
  },
  {
   "cell_type": "markdown",
   "metadata": {},
   "source": [
    "**Question 2.1:** What do these tables tell you about the age of victims of crimes? At what age range is someone most commonly a victim of crime, based on the data?\n",
    "\n",
    "*Your answer here:*\n"
   ]
  },
  {
   "cell_type": "markdown",
   "metadata": {},
   "source": [
    "---\n",
    "\n",
    "## 👥 PART 3: Create Male and Female Subsets\n",
    "\n",
    "Now we'll dig deeper by separating the data by gender to understand how each group is affected differently."
   ]
  },
  {
   "cell_type": "code",
   "execution_count": null,
   "metadata": {},
   "outputs": [],
   "source": [
    "# Create two new dataframes: one for male victims and one for female victims\n",
    "# Hint: Use filter() function from tidyverse\n",
    "\n",
    "# Filter for male victims (Vict.Sex == \"M\")\n",
    "crime_male <- crime_stats %>% \n",
    "  filter(Vict.Sex == \"M\")\n",
    "\n",
    "# Filter for female victims (Vict.Sex == \"F\")\n",
    "# Complete this line:\n",
    "crime_female <- \n",
    "\n",
    "# Check the dimensions of each dataset\n",
    "cat(\"Male victims:\", nrow(crime_male), \"\\n\")\n",
    "cat(\"Female victims:\", nrow(crime_female), \"\\n\")"
   ]
  },
  {
   "cell_type": "code",
   "execution_count": null,
   "metadata": {},
   "outputs": [],
   "source": [
    "# Create histograms for each dataset with 10 bins\n",
    "# Hint: Use hist() function for both crime_male$Vict.Age and crime_female$Vict.Age\n",
    "\n",
    "# Histogram for male victims\n",
    "hist(crime_male$Vict.Age, breaks = 10,\n",
    "     main = \"Age Distribution - Male Victims\",\n",
    "     xlab = \"Age\",\n",
    "     col = \"lightblue\")\n",
    "\n",
    "# Histogram for female victims\n",
    "# Complete this histogram:\n"
   ]
  },
  {
   "cell_type": "code",
   "execution_count": null,
   "metadata": {},
   "outputs": [],
   "source": [
    "# Now adjust the bins to 20 for both histograms\n",
    "# Hint: Change breaks = 10 to breaks = 20\n",
    "\n",
    "# Male victims with 20 bins\n",
    "hist(crime_male$Vict.Age, breaks = 20,\n",
    "     main = \"Age Distribution - Male Victims (20 bins)\",\n",
    "     xlab = \"Age\",\n",
    "     col = \"lightblue\")\n",
    "\n",
    "# Female victims with 20 bins\n",
    "# Complete this histogram:\n"
   ]
  },
  {
   "cell_type": "markdown",
   "metadata": {},
   "source": [
    "### 📝 Questions for Part 3"
   ]
  },
  {
   "cell_type": "markdown",
   "metadata": {},
   "source": [
    "**Question 3.1:** Based on the histograms for male and female victims, how does the trend in the data change? What new inferences can you make now that you have separated the data?\n",
    "\n",
    "*Your answer here:*\n"
   ]
  },
  {
   "cell_type": "markdown",
   "metadata": {},
   "source": [
    "**Question 3.2:** What does changing the bins from 10 to 20 do? How may this affect your interpretation of the data?\n",
    "\n",
    "*Your answer here:*\n"
   ]
  },
  {
   "cell_type": "markdown",
   "metadata": {},
   "source": [
    "---\n",
    "\n",
    "## 📤 Submission Instructions\n",
    "\n",
    "### How to Submit Your Assignment:\n",
    "\n",
    "1. **Complete all code cells** and answer all questions in the markdown cells above\n",
    "\n",
    "2. **Download your completed notebook:**\n",
    "   - Go to **File** → **Download as** → **HTML (.html)**\n",
    "   - Also download as **Notebook (.ipynb)** as backup\n",
    "\n",
    "3. **Submit to UC Davis Canvas:**\n",
    "   - Upload both the **.html** file and **.ipynb** file\n",
    "   - Make sure your name is in the student information section at the top\n",
    "\n",
    "### 📧 Questions or Need Help?\n",
    "\n",
    "If you have questions about this assignment or need help with R programming, please contact:\n",
    "\n",
    "**Mohammadreza Narimani**  \n",
    "📧 mnarimani@ucdavis.edu  \n",
    "🏫 Department of Biological and Agricultural Engineering, UC Davis\n",
    "\n",
    "---\n",
    "\n",
    "**Good luck with your assignment!** 🍀"
   ]
  }
 ],
 "metadata": {
  "kernelspec": {
   "display_name": "R",
   "language": "R",
   "name": "ir"
  },
  "language_info": {
   "codemirror_mode": "r",
   "file_extension": ".r",
   "mimetype": "text/x-r-source",
   "name": "R",
   "pygments_lexer": "r",
   "version": "4.3.0"
  }
 },
 "nbformat": 4,
 "nbformat_minor": 4
}