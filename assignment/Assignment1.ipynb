{
 "cells": [
  {
   "cell_type": "markdown",
   "metadata": {},
   "source": [
    "# 📋 PLS 120 Assignment 1\n",
    "**Applied Statistics in Agriculture**\n",
    "\n",
    "**Binder Developer:** Mohammadreza Narimani  \n",
    "**Assignment Developer:** Parastoo Farajpoor  \n",
    "**Date:** 2025-10-01\n",
    "\n",
    "---"
   ]
  },
  {
   "cell_type": "markdown",
   "metadata": {},
   "source": [
    "## 👤 Student Information\n",
    "**Please fill in your information below:**"
   ]
  },
  {
   "cell_type": "raw",
   "metadata": {},
   "source": [
    "Name: [YOUR NAME]\n",
    "Student ID: [STUDENT ID NUMBER]\n",
    "Date: [Today's DATE]"
   ]
  },
  {
   "cell_type": "markdown",
   "metadata": {},
   "source": [
    "You will be writing code into code cells and providing written answers in raw text cells. \n",
    "\n",
    "For this assignment, and the next several assignments, use the following data set, which examines statistics in LA. This dataset reflects incidents in the City of Los Angeles on the 1st of September, 2023 (i.e. only one single day). The source of data can be found here: https://catalog.data.gov/dataset/crime-data-from-2020-to-present\n",
    "\n",
    "The original dataset comprises more than 800,000 entries. However, I have narrowed it down to data from just one day, September 1, 2023, focusing solely on individuals identified as female (F) or male (M). The trimmed dataset consists of two columns: \"Vict Age,\" representing the age of the victim, and \"Vict Sex,\" indicating the victim's gender. This reduced file contains a total of 555 rows. Utilize this dataset to accomplish the following tasks."
   ]
  },
  {
   "cell_type": "markdown",
   "metadata": {},
   "source": [
    "## RUN THE FOLLOWING CHUNK BEFORE STARTING"
   ]
  },
  {
   "cell_type": "code",
   "execution_count": null,
   "metadata": {},
   "outputs": [],
   "source": [
    "# Libraries are already installed for you in Binder!\n",
    "suppressPackageStartupMessages({\n",
    "  library(tidyverse)\n",
    "  library(knitr)\n",
    "})\n",
    "cat(\"✅ Libraries loaded successfully!\")"
   ]
  },
  {
   "cell_type": "markdown",
   "metadata": {},
   "source": [
    "## PART 1: Load the data into R for use in the rest of the assignment"
   ]
  },
  {
   "cell_type": "code",
   "execution_count": null,
   "metadata": {},
   "outputs": [],
   "source": [
    "# load the data into R\n",
    "# Hint: use read.csv() function with \"LA_Data.csv\"\n",
    "data_stats <- \n",
    "  \n",
    "# examine the data\n",
    "# Hint: use str() function\n",
    "str(data_stats)"
   ]
  },
  {
   "cell_type": "markdown",
   "metadata": {},
   "source": [
    "the str() function will tell you a lot about your data, such as the type of data it is, how many levels there are, and the dimensions of the your data frame. Using str(), answer the following questions:\n",
    "\n",
    "❓ **1. What type of data is \"Vict Age\"? How many levels does it have?**"
   ]
  },
  {
   "cell_type": "raw",
   "metadata": {},
   "source": [
    "Your answer here:"
   ]
  },
  {
   "cell_type": "markdown",
   "metadata": {},
   "source": [
    "❓ **2. What type of data is \"Vict Sex\"? How many levels does it have?**"
   ]
  },
  {
   "cell_type": "raw",
   "metadata": {},
   "source": [
    "Your answer here:"
   ]
  },
  {
   "cell_type": "markdown",
   "metadata": {},
   "source": [
    "---\n",
    "\n",
    "## PART 2: Create a frequency table and histogram for victim age\n",
    "\n",
    "Visualization is often a good way to observe macro level trends in data sets. A common method of doing this is using a histogram, which visualizes the number of occurrences of a particular data point. In this exercise, you will be making a histogram based upon the ages of the victims in the dataset. A frequency table will create a table with the corresponding counts."
   ]
  },
  {
   "cell_type": "code",
   "execution_count": null,
   "metadata": {},
   "outputs": [],
   "source": [
    "# create a frequency table with ages divided into ten groups\n",
    "# Hint: use table() and cut() functions. For age ranges, try seq(0, 100, 10)\n",
    "frequency_table <- table(data_stats$Vict.Sex, cut(data_stats$Vict.Age, seq([\"Fill in the code here\"])))\n",
    "frequency_table\n",
    "\n",
    "# create a histogram with 10 bins\n",
    "# Hint: use hist() function with breaks = 10\n"
   ]
  },
  {
   "cell_type": "markdown",
   "metadata": {},
   "source": [
    "❓ Now that you have created two tables describing the statistics visually, what do these tables tell you about the age of victims? At what age is someone most commonly to be a victim, based on the data?"
   ]
  },
  {
   "cell_type": "raw",
   "metadata": {},
   "source": [
    "Your answer here:"
   ]
  },
  {
   "cell_type": "markdown",
   "metadata": {},
   "source": [
    "---\n",
    "\n",
    "## PART 3: Create Male and Female tables\n",
    "\n",
    "Now that we have observed trends in the overall dataset, we can now dig a little deeper. We know the gender of each person in the dataset, so maybe we can learn more information and make new inferences if we can understand how each group is affected differently."
   ]
  },
  {
   "cell_type": "code",
   "execution_count": null,
   "metadata": {},
   "outputs": [],
   "source": [
    "# create two new dataframes: one for male victims and one for female victims\n",
    "\n",
    "data_male <- data_stats %>% \n",
    "  filter(Vict.Sex == \"M\")\n",
    "\n",
    "# here I am using a package called tidyverse to select only the males. \n",
    "# We'll learn more about this later, but try adapting the code to select only the females\n",
    "# Hint: change \"M\" to \"F\" in the filter\n",
    "\n",
    "data_female <- \n",
    "\n",
    "  \n",
    "# create a histogram for each data set with 10 bins\n",
    "# Hint: use hist() function for data_male$Vict.Age and data_female$Vict.Age\n",
    "\n",
    "  \n",
    "# adjust the bins to 20\n",
    "# Hint: change breaks = 10 to breaks = 20 for both histograms"
   ]
  },
  {
   "cell_type": "markdown",
   "metadata": {},
   "source": [
    "❓ **1. Based on the histograms for the male and female victims, how does the trend in the data change? What new inferences can you make now that you have separated the data?**"
   ]
  },
  {
   "cell_type": "raw",
   "metadata": {},
   "source": [
    "Your answer here:"
   ]
  },
  {
   "cell_type": "markdown",
   "metadata": {},
   "source": [
    "❓ **2. What does changing the bins do? How may this affect your interpretation of the data?**"
   ]
  },
  {
   "cell_type": "raw",
   "metadata": {},
   "source": [
    "Your answer here:"
   ]
  },
  {
   "cell_type": "markdown",
   "metadata": {},
   "source": [
    "---\n",
    "\n",
    "## 📤 Submission Instructions\n",
    "\n",
    "### How to Submit Your Assignment:\n",
    "\n",
    "1. **Complete all code cells** and answer all questions in the raw text cells above\n",
    "\n",
    "2. **Save your work:**\n",
    "   - Go to **File** → **Save** to save your progress\n",
    "\n",
    "3. **Download your completed notebook:**\n",
    "   - Go to **File** → **Save and Export Notebook As** → **HTML**\n",
    "   - Also go to **File** → **Download** to get the **.ipynb** file\n",
    "\n",
    "4. **Submit to UC Davis Canvas:**\n",
    "   - Upload both the **.html** file and **.ipynb** file\n",
    "   - Make sure your name is in the student information section at the top\n",
    "\n",
    "### 📧 Questions or Need Help?\n",
    "\n",
    "If you have questions about this assignment or need help with R programming, please contact:\n",
    "\n",
    "**Mohammadreza Narimani**  \n",
    "📧 mnarimani@ucdavis.edu  \n",
    "🏫 Department of Biological and Agricultural Engineering, UC Davis\n",
    "\n",
    "---\n",
    "\n",
    "**Good luck with your assignment!** 🍀"
   ]
  }
 ],
 "metadata": {
  "kernelspec": {
   "display_name": "R",
   "language": "R",
   "name": "ir"
  },
  "language_info": {
   "codemirror_mode": "r",
   "file_extension": ".r",
   "mimetype": "text/x-r-source",
   "name": "R",
   "pygments_lexer": "r",
   "version": "4.3.0"
  }
 },
 "nbformat": 4,
 "nbformat_minor": 4
}