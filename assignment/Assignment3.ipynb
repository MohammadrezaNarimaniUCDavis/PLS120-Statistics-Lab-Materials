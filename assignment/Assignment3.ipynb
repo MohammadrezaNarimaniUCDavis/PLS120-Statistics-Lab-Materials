{
 "cells": [
  {
   "cell_type": "markdown",
   "metadata": {},
   "source": [
    "# 📋 PLS 120 Assignment 3\n",
    "**Applied Statistics in Agriculture**\n",
    "\n",
    "**Binder Developer:** Mohammadreza Narimani  \n",
    "**Assignment Developer:** Parastoo Farajpoor  \n",
    "**Date:** 2025-10-15\n",
    "\n",
    "---"
   ]
  },
  {
   "cell_type": "markdown",
   "metadata": {},
   "source": [
    "## 👤 Student Information\n",
    "**Please fill in your information below:**"
   ]
  },
  {
   "cell_type": "raw",
   "metadata": {},
   "source": [
    "Name: [YOUR NAME]\n",
    "Student ID: [STUDENT ID NUMBER]\n",
    "Date: [Today's DATE]"
   ]
  },
  {
   "cell_type": "markdown",
   "metadata": {},
   "source": [
    "For this assignment, you will use visualization approaches continuing from last week's work in addition with a new dataset. Along with visualizations like boxplots, and stem-and-leaf plot, serve as a fundamental method for understanding data distributions pattern and tendencies. Additionally, you're going to be introduced to how to subset a dataset, clean up the non-numeric values and infer useful information from stem-and-leaf plot regarding distribution pattern, mode, mean and median."
   ]
  },
  {
   "cell_type": "markdown",
   "metadata": {},
   "source": [
    "## RUN THE FOLLOWING CHUNK BEFORE STARTING"
   ]
  },
  {
   "cell_type": "code",
   "execution_count": null,
   "metadata": {},
   "outputs": [],
   "source": [
    "# Libraries are already installed for you in Binder!\n",
    "suppressPackageStartupMessages({\n",
    "  library(tidyverse)\n",
    "  library(stringr)\n",
    "})\n",
    "cat(\"✅ Libraries loaded successfully!\")"
   ]
  },
  {
   "cell_type": "markdown",
   "metadata": {},
   "source": [
    "---\n",
    "\n",
    "## PART ONE: Load Data and Create Boxplot"
   ]
  },
  {
   "cell_type": "code",
   "execution_count": null,
   "metadata": {},
   "outputs": [],
   "source": [
    "# Load in the LA crimes data (1 point)\n",
    "# Hint: LA_Crime <- read.csv(\"LA_Data.csv\")\n",
    "LA_Crime <-\n",
    "\n",
    "# Filter the LA_Crime dataset based on sex using %>%, hint: assignment 2 (1 point)\n",
    "# Hint: crime_male <- LA_Crime %>% filter(Vict.Sex == \"M\")\n",
    "crime_male <-\n",
    "\n",
    "# Hint: crime_female <- LA_Crime %>% filter(Vict.Sex == \"F\")\n",
    "crime_female <-\n",
    "\n",
    "# Check the data (1 point)\n",
    "# Hint: nrow(crime_male)\n",
    "nrow()\n",
    "\n",
    "# Hint: nrow(crime_female)\n",
    "nrow()"
   ]
  },
  {
   "cell_type": "code",
   "execution_count": null,
   "metadata": {},
   "outputs": [],
   "source": [
    "# Use boxplot to visualize and compare the median of each sex, both in one boxplot (2 points)\n",
    "# Hint: boxplot(crime_female$Vict.Age, crime_male$Vict.Age, main = \"Age Distribution by Gender\", names = c(\"Female\", \"Male\"))\n",
    "boxplot()"
   ]
  },
  {
   "cell_type": "markdown",
   "metadata": {},
   "source": [
    "❓ **Briefly interpret the boxplot (1 point), comparing the median and variability of the two sexes.**"
   ]
  },
  {
   "cell_type": "raw",
   "metadata": {},
   "source": [
    "Your answer here:"
   ]
  },
  {
   "cell_type": "markdown",
   "metadata": {},
   "source": [
    "---\n",
    "\n",
    "## PART TWO: Import and Subset New Dataset"
   ]
  },
  {
   "cell_type": "code",
   "execution_count": null,
   "metadata": {},
   "outputs": [],
   "source": [
    "# Import the dataset SAT_DATASET_2012.csv into R in a standard way, hint: read.csv (1 point)\n",
    "# Hint: sat_dataset_raw <- read.csv(\"SAT_DATASET_2012.csv\")\n",
    "sat_dataset_raw <-\n",
    "\n",
    "# Check and make sure the data types are correct using str() (1 point)\n",
    "# Hint: str(sat_dataset_raw)\n",
    "str()"
   ]
  },
  {
   "cell_type": "code",
   "execution_count": null,
   "metadata": {},
   "outputs": [],
   "source": [
    "# Create a random subset of the dataset for the first 80 rows (2 points)\n",
    "# Hint: random_rows <- sample(nrow(sat_dataset_raw), 80)\n",
    "random_rows <-\n",
    "\n",
    "# Hint: random_subset <- sat_dataset_raw[random_rows, ]\n",
    "random_subset <-\n",
    "\n",
    "# Check the structure\n",
    "# Hint: str(random_subset)\n",
    "str()"
   ]
  },
  {
   "cell_type": "code",
   "execution_count": null,
   "metadata": {},
   "outputs": [],
   "source": [
    "# Clean up the subset - remove non-numeric values and convert to integers (2 points)\n",
    "# Hint: subset_NA_replaced <- random_subset %>% mutate(across(3:6, ~ as.integer(str_replace_all(., \"[^0-9]\", \"\"))))\n",
    "subset_NA_replaced <-\n",
    "\n",
    "# Remove rows with NA values\n",
    "# Hint: cleaned_subset <- na.omit(subset_NA_replaced)\n",
    "cleaned_subset <-\n",
    "\n",
    "# Check the cleaned structure\n",
    "# Hint: str(cleaned_subset)\n",
    "str()"
   ]
  },
  {
   "cell_type": "code",
   "execution_count": null,
   "metadata": {},
   "outputs": [],
   "source": [
    "# Extract a column, SAT Math Avg. Score, using subset() (2 points)\n",
    "# Hint: extracted_column <- subset(cleaned_subset, select = \"SAT.Math.Avg..Score\")\n",
    "extracted_column <-\n",
    "\n",
    "# View the extracted column (1 point)\n",
    "# Hint: head(extracted_column)\n",
    "head()\n",
    "\n",
    "# Check number of rows\n",
    "# Hint: nrow(extracted_column)\n",
    "nrow()"
   ]
  },
  {
   "cell_type": "markdown",
   "metadata": {},
   "source": [
    "---\n",
    "\n",
    "## PART THREE: Stem-and-Leaf Plot"
   ]
  },
  {
   "cell_type": "code",
   "execution_count": null,
   "metadata": {},
   "outputs": [],
   "source": [
    "# Create the stem-and-leaf plot using the first two digits as the stem and the third digit as the leaf (2 points)\n",
    "# Hint: stem(extracted_column$SAT.Math.Avg..Score, scale = 2, width = 80, atom = 1e-08)\n",
    "stem()"
   ]
  },
  {
   "cell_type": "markdown",
   "metadata": {},
   "source": [
    "❓ **Examine the stem-and-leaf plot provided for SAT Math Average Scores. What can you infer about the distribution of scores? Are there any outliers? If so, where do they appear? Can we estimate the mode, mean, and median from this data? Under this distribution, is it likely that these parameters are equal? (3 points)**"
   ]
  },
  {
   "cell_type": "raw",
   "metadata": {},
   "source": [
    "Your answer here:"
   ]
  },
  {
   "cell_type": "markdown",
   "metadata": {},
   "source": [
    "---\n",
    "\n",
    "## 📤 Submission Instructions\n",
    "\n",
    "### How to Submit Your Assignment:\n",
    "\n",
    "1. **Complete all code cells** and answer all questions in the raw text cells above\n",
    "\n",
    "2. **Save your work:**\n",
    "   - Go to **File** → **Save** to save your progress\n",
    "\n",
    "3. **Download your completed notebook:**\n",
    "   - Go to **File** → **Save and Export Notebook As** → **HTML**\n",
    "   - Also go to **File** → **Download** to get the **.ipynb** file\n",
    "\n",
    "4. **Submit to UC Davis Canvas:**\n",
    "   - Upload both the **.html** file and **.ipynb** file\n",
    "   - Make sure your name is in the student information section at the top\n",
    "\n",
    "### 📧 Questions or Need Help?\n",
    "\n",
    "If you have questions about this assignment or need help with R programming, please contact:\n",
    "\n",
    "**Mohammadreza Narimani**  \n",
    "📧 mnarimani@ucdavis.edu  \n",
    "🏫 Department of Biological and Agricultural Engineering, UC Davis\n",
    "\n",
    "---\n",
    "\n",
    "**Good luck with your assignment!** 🍀"
   ]
  }
 ],
 "metadata": {
  "kernelspec": {
   "display_name": "R",
   "language": "R",
   "name": "ir"
  },
  "language_info": {
   "codemirror_mode": "r",
   "file_extension": ".r",
   "mimetype": "text/x-r-source",
   "name": "R",
   "pygments_lexer": "r",
   "version": "4.3.0"
  }
 },
 "nbformat": 4,
 "nbformat_minor": 4
}