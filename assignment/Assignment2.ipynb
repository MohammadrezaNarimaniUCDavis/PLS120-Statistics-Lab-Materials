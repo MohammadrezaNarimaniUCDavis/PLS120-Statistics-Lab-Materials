{
 "cells": [
  {
   "cell_type": "markdown",
   "metadata": {},
   "source": [
    "# 📋 PLS 120 Assignment 2\n",
    "**Applied Statistics in Agriculture**\n",
    "\n",
    "**Binder Developer:** Mohammadreza Narimani  \n",
    "**Assignment Developer:** Parastoo Farajpoor  \n",
    "**Date:** 2025-10-08\n",
    "\n",
    "---"
   ]
  },
  {
   "cell_type": "markdown",
   "metadata": {},
   "source": [
    "## 👤 Student Information\n",
    "**Please fill in your information below:**"
   ]
  },
  {
   "cell_type": "raw",
   "metadata": {},
   "source": [
    "Name: [YOUR NAME]\n",
    "Student ID: [STUDENT ID NUMBER]\n",
    "Date: [Today's DATE]"
   ]
  },
  {
   "cell_type": "markdown",
   "metadata": {},
   "source": [
    "For this assignment, you will be using various summary statistics, or descriptions of central tendency, to describe and summarize data. Statistics of central tendency are another way to summarize and get information from your data. Along with different forms of visualization, central tendency is often a good first step when working with data. We will be using the same LA crime data as we did last week."
   ]
  },
  {
   "cell_type": "markdown",
   "metadata": {},
   "source": [
    "## RUN THE FOLLOWING CHUNK BEFORE STARTING"
   ]
  },
  {
   "cell_type": "code",
   "execution_count": null,
   "metadata": {},
   "outputs": [],
   "source": [
    "# Libraries are already installed for you in Binder!\n",
    "suppressPackageStartupMessages({\n",
    "  library(tidyverse)\n",
    "})\n",
    "cat(\"✅ Libraries loaded successfully!\")"
   ]
  },
  {
   "cell_type": "markdown",
   "metadata": {},
   "source": [
    "## Load Data and Create Subsets"
   ]
  },
  {
   "cell_type": "code",
   "execution_count": null,
   "metadata": {},
   "outputs": [],
   "source": [
    "# Load in the LA crimes data (1 point)\n",
    "# Hint: crime_stats <- read.csv(\"LA_Data.csv\")\n",
    "crime_stats <-\n",
    "\n",
    "# Divide the data into male and female (2 points)\n",
    "# Hint: crime_male <- crime_stats %>% filter(Vict.Sex == \"M\")\n",
    "crime_male <-\n",
    "\n",
    "# Hint: crime_female <- crime_stats %>% filter(Vict.Sex == \"F\")\n",
    "crime_female <-"
   ]
  },
  {
   "cell_type": "markdown",
   "metadata": {},
   "source": [
    "---\n",
    "\n",
    "## PART 1: Mean, Median and Mode"
   ]
  },
  {
   "cell_type": "code",
   "execution_count": null,
   "metadata": {},
   "outputs": [],
   "source": [
    "# First we will calculate the mean arithmetically\n",
    "# Using the sum function, calculate the mean victim age for the whole data set, \n",
    "# then the male and female subsets. (2 points)\n",
    "# Hint: mean_age_total <- sum(crime_stats$Vict.Age) / nrow(crime_stats)\n",
    "\n",
    "mean_age_total <-\n",
    "mean_age_male <-\n",
    "mean_age_female <-\n",
    "\n",
    "# Print the values\n",
    "mean_age_total\n",
    "mean_age_male\n",
    "mean_age_female"
   ]
  },
  {
   "cell_type": "code",
   "execution_count": null,
   "metadata": {},
   "outputs": [],
   "source": [
    "# Now calculate the mean age for the three data sets using the mean() function in R (1 point)\n",
    "# Hint: mean_age_total <- mean(crime_stats$Vict.Age)\n",
    "\n",
    "mean_age_total <-\n",
    "mean_age_male <-\n",
    "mean_age_female <-\n",
    "\n",
    "# Print the values\n",
    "mean_age_total\n",
    "mean_age_male\n",
    "mean_age_female"
   ]
  },
  {
   "cell_type": "code",
   "execution_count": null,
   "metadata": {},
   "outputs": [],
   "source": [
    "# Calculate the median age for the three data sets using the median() function in R (1 point)\n",
    "# Hint: median_age_total <- median(crime_stats$Vict.Age)\n",
    "\n",
    "median_age_total <-\n",
    "median_age_male <-\n",
    "median_age_female <-\n",
    "\n",
    "# Print the values\n",
    "median_age_total\n",
    "median_age_male\n",
    "median_age_female"
   ]
  },
  {
   "cell_type": "code",
   "execution_count": null,
   "metadata": {},
   "outputs": [],
   "source": [
    "# R doesn't have a function built in to calculate the mode, so we are going to have to make one\n",
    "\n",
    "Mode <- function(x) {\n",
    "  ux <- unique(x)\n",
    "  ux[which.max(tabulate(match(x, ux)))]\n",
    "}\n",
    "\n",
    "# After you have run the above line, use the Mode() function we just made to calculate \n",
    "# the mode for age in all three data sets (1 point)\n",
    "# Hint: mode_age_total <- Mode(crime_stats$Vict.Age)\n",
    "\n",
    "mode_age_total <-\n",
    "mode_age_male <-\n",
    "mode_age_female <-\n",
    "\n",
    "# Print the values\n",
    "mode_age_total\n",
    "mode_age_male\n",
    "mode_age_female"
   ]
  },
  {
   "cell_type": "markdown",
   "metadata": {},
   "source": [
    "❓ **1. For each dataset, how do the mean, median and mode differ? What do each description of central tendency tell you about the data? (2 points)**"
   ]
  },
  {
   "cell_type": "raw",
   "metadata": {},
   "source": [
    "Your answer here:"
   ]
  },
  {
   "cell_type": "markdown",
   "metadata": {},
   "source": [
    "❓ **2. How do the measures of central tendency differ between the datasets? What inferences can you draw from these differences? (2 points)**"
   ]
  },
  {
   "cell_type": "raw",
   "metadata": {},
   "source": [
    "Your answer here:"
   ]
  },
  {
   "cell_type": "markdown",
   "metadata": {},
   "source": [
    "---\n",
    "\n",
    "## PART 2: Variance, Standard Deviation and Coefficient of Variation"
   ]
  },
  {
   "cell_type": "code",
   "execution_count": null,
   "metadata": {},
   "outputs": [],
   "source": [
    "# Calculate the variance for all three datasets (1 point)\n",
    "# Hint: variance_total <- var(crime_stats$Vict.Age)\n",
    "\n",
    "variance_total <-\n",
    "variance_male <-\n",
    "variance_female <-\n",
    "\n",
    "# Print the values\n",
    "variance_total\n",
    "variance_male\n",
    "variance_female"
   ]
  },
  {
   "cell_type": "code",
   "execution_count": null,
   "metadata": {},
   "outputs": [],
   "source": [
    "# Calculate the standard deviation for all three datasets (1 point)\n",
    "# Hint: sd_total <- sd(crime_stats$Vict.Age)\n",
    "\n",
    "sd_total <-\n",
    "sd_male <-\n",
    "sd_female <-\n",
    "\n",
    "# Print the values\n",
    "sd_total\n",
    "sd_male\n",
    "sd_female"
   ]
  },
  {
   "cell_type": "code",
   "execution_count": null,
   "metadata": {},
   "outputs": [],
   "source": [
    "# Calculate the coefficient of variation for all three datasets (1 point)\n",
    "# Hint: cv_total <- (sd_total / mean(crime_stats$Vict.Age)) * 100\n",
    "\n",
    "cv_total <-\n",
    "cv_male <-\n",
    "cv_female <-\n",
    "\n",
    "# Print the values\n",
    "cv_total\n",
    "cv_male\n",
    "cv_female"
   ]
  },
  {
   "cell_type": "markdown",
   "metadata": {},
   "source": [
    "❓ **1. Each of these statistics describe the variability of the data. Describe what this means and what information you can gather from describing variation. (2 points)**"
   ]
  },
  {
   "cell_type": "raw",
   "metadata": {},
   "source": [
    "Your answer here:"
   ]
  },
  {
   "cell_type": "markdown",
   "metadata": {},
   "source": [
    "❓ **2. How do these variability statistics change between the three datasets? (1 point)**"
   ]
  },
  {
   "cell_type": "raw",
   "metadata": {},
   "source": [
    "Your answer here:"
   ]
  },
  {
   "cell_type": "markdown",
   "metadata": {},
   "source": [
    "---\n",
    "\n",
    "## PART 3: Quantiles"
   ]
  },
  {
   "cell_type": "code",
   "execution_count": null,
   "metadata": {},
   "outputs": [],
   "source": [
    "# Calculate the quantiles for all three datasets (1 point)\n",
    "# Hint: quantiles_total <- quantile(crime_stats$Vict.Age)\n",
    "\n",
    "quantiles_total <-\n",
    "quantiles_male <-\n",
    "quantiles_female <-\n",
    "\n",
    "# Print the values\n",
    "quantiles_total\n",
    "quantiles_male\n",
    "quantiles_female"
   ]
  },
  {
   "cell_type": "markdown",
   "metadata": {},
   "source": [
    "❓ **1. For each dataset, what is the age of the first and third quantiles for each dataset? What can you infer from this information? (1 point)**"
   ]
  },
  {
   "cell_type": "raw",
   "metadata": {},
   "source": [
    "Your answer here:"
   ]
  },
  {
   "cell_type": "markdown",
   "metadata": {},
   "source": [
    "---\n",
    "\n",
    "## 📤 Submission Instructions\n",
    "\n",
    "### How to Submit Your Assignment:\n",
    "\n",
    "1. **Complete all code cells** and answer all questions in the raw text cells above\n",
    "\n",
    "2. **Save your work:**\n",
    "   - Go to **File** → **Save** to save your progress\n",
    "\n",
    "3. **Download your completed notebook:**\n",
    "   - Go to **File** → **Save and Export Notebook As** → **HTML**\n",
    "   - Also go to **File** → **Download** to get the **.ipynb** file\n",
    "\n",
    "4. **Submit to UC Davis Canvas:**\n",
    "   - Upload both the **.html** file and **.ipynb** file\n",
    "   - Make sure your name is in the student information section at the top\n",
    "\n",
    "### 📧 Questions or Need Help?\n",
    "\n",
    "If you have questions about this assignment or need help with R programming, please contact:\n",
    "\n",
    "**Mohammadreza Narimani**  \n",
    "📧 mnarimani@ucdavis.edu  \n",
    "🏫 Department of Biological and Agricultural Engineering, UC Davis\n",
    "\n",
    "---\n",
    "\n",
    "**Good luck with your assignment!** 🍀"
   ]
  }
 ],
 "metadata": {
  "kernelspec": {
   "display_name": "R",
   "language": "R",
   "name": "ir"
  },
  "language_info": {
   "codemirror_mode": "r",
   "file_extension": ".r",
   "mimetype": "text/x-r-source",
   "name": "R",
   "pygments_lexer": "r",
   "version": "4.3.0"
  }
 },
 "nbformat": 4,
 "nbformat_minor": 4
}
