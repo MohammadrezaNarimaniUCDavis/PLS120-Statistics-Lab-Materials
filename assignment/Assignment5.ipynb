{
 "cells": [
  {
   "cell_type": "markdown",
   "metadata": {},
   "source": [
    "# 📋 PLS 120 Assignment 5\n",
    "**Applied Statistics in Agriculture**\n",
    "\n",
    "**Binder Developer:** Mohammadreza Narimani  \n",
    "**Assignment Developer:** Sirapoom Peanusaha  \n",
    "**Date:** October 29, 2025\n",
    "\n",
    "---"
   ]
  },
  {
   "cell_type": "markdown",
   "metadata": {},
   "source": [
    "## 👤 Student Information\n",
    "**Please fill in your information below:**"
   ]
  },
  {
   "cell_type": "raw",
   "metadata": {},
   "source": [
    "Name: [YOUR NAME]\n",
    "Student ID: [STUDENT ID NUMBER]\n",
    "Date: [Today's DATE]"
   ]
  },
  {
   "cell_type": "markdown",
   "metadata": {},
   "source": [
    "## 📝 Assignment Overview\n",
    "\n",
    "Imagine you are a public health researcher tasked with conducting a study to estimate the prevalence of a specific disease (e.g., diabetes, heart disease, cancer) in a given community. Your goal is to determine how large your sample should be to ensure that your estimates are reliable and accurate.\n",
    "\n",
    "For this assignment, we will use **diabetes** with general prevalence rate of **10%** as an example.\n",
    "\n",
    "**Total Points: 20**"
   ]
  },
  {
   "cell_type": "markdown",
   "metadata": {},
   "source": [
    "---\n",
    "\n",
    "## Question 1: Basic Sample Size Calculation (6 points)\n",
    "\n",
    "Using the formula for determining sample size for estimating a proportion with a 95% confidence level and a 5% margin of error for your initial calculation."
   ]
  },
  {
   "cell_type": "code",
   "execution_count": null,
   "metadata": {},
   "outputs": [],
   "source": [
    "# Set the estimated prevalence rate of the disease to 10% \n",
    "# Hint: p = 0.1\n",
    "p = \n",
    "\n",
    "# Set the significance level to 0.05 for a 95% confidence level\n",
    "# Hint: alpha = 0.05\n",
    "alpha = \n",
    "\n",
    "# Calculate the z-score for a 95% confidence level (1 point)\n",
    "# Hint: z = qnorm(1 - alpha / 2)\n",
    "z = \n",
    "\n",
    "# Display the z-score\n",
    "# Hint: print(z)\n",
    "print()\n",
    "\n",
    "# Set the desired margin of error to 5%\n",
    "# Hint: d = 0.05\n",
    "d = \n",
    "\n",
    "# Calculate the required sample size using the formula for proportions (1 point)\n",
    "# Hint: n = z^2 * p * (1 - p) / (d^2)\n",
    "n = \n",
    "\n",
    "# Round up the calculated sample size to the nearest whole number\n",
    "# Hint: ceiling(n)\n",
    "ceiling()"
   ]
  },
  {
   "cell_type": "markdown",
   "metadata": {},
   "source": [
    "❓ **1.1** Explain clearly what does 5% margin of error means? (2 points)"
   ]
  },
  {
   "cell_type": "raw",
   "metadata": {},
   "source": [
    "Your answer here:"
   ]
  },
  {
   "cell_type": "markdown",
   "metadata": {},
   "source": [
    "❓ **1.2** If you estimated that 20% of adults in a community have hypertension with a 5% margin of error, does it mean that the actual percentage of the population with hypertension could range from 5% to 20%? (2 points)"
   ]
  },
  {
   "cell_type": "raw",
   "metadata": {},
   "source": [
    "Your answer here:"
   ]
  },
  {
   "cell_type": "markdown",
   "metadata": {},
   "source": [
    "---\n",
    "\n",
    "## Question 2: Effect of Prevalence Rate (5 points)\n",
    "\n",
    "Perform calculations for different levels of estimated prevalence (e.g., if the prevalence of the disease is X%, then redo your calculations for 0.5X, 2X, and 3X prevalence rates to understand how the expected prevalence rate affects the required sample size)."
   ]
  },
  {
   "cell_type": "code",
   "execution_count": null,
   "metadata": {},
   "outputs": [],
   "source": [
    "# Sample size calculation for 0.5X prevalence (1 point)\n",
    "# Hint: p_0.5 = 0.5 * p\n",
    "# Hint: n_0.5 = z^2 * p_0.5 * (1 - p_0.5) / (d^2)\n",
    "# Hint: ceiling(n_0.5)\n",
    "p_0.5 = \n",
    "n_0.5 = \n",
    "ceiling()"
   ]
  },
  {
   "cell_type": "code",
   "execution_count": null,
   "metadata": {},
   "outputs": [],
   "source": [
    "# Sample size calculation for 2X prevalence (1 point)\n",
    "# Hint: p_2 = p * 2\n",
    "# Hint: n_2 = z^2 * p_2 * (1 - p_2) / (d^2)\n",
    "# Hint: ceiling(n_2)\n",
    "p_2 = \n",
    "n_2 = \n",
    "ceiling()"
   ]
  },
  {
   "cell_type": "code",
   "execution_count": null,
   "metadata": {},
   "outputs": [],
   "source": [
    "# Sample size calculation for 3X prevalence (1 point)\n",
    "# Hint: p_3 = p * 3\n",
    "# Hint: n_3 = z^2 * p_3 * (1 - p_3) / (d^2)\n",
    "# Hint: ceiling(n_3)\n",
    "p_3 = \n",
    "n_3 = \n",
    "ceiling()"
   ]
  },
  {
   "cell_type": "markdown",
   "metadata": {},
   "source": [
    "❓ **2.1** What happens to the number of samples when the prevalence increases to 2x and 3x of the original 10% prevalence rate? (2 points)"
   ]
  },
  {
   "cell_type": "raw",
   "metadata": {},
   "source": [
    "Your answer here:"
   ]
  },
  {
   "cell_type": "markdown",
   "metadata": {},
   "source": [
    "---\n",
    "\n",
    "## Question 3: Effect of Margin of Error (5 points)\n",
    "\n",
    "Redo your calculations by changing the margin of error to 2.5% and 7.5% while keeping the confidence level at 95%."
   ]
  },
  {
   "cell_type": "code",
   "execution_count": null,
   "metadata": {},
   "outputs": [],
   "source": [
    "# Sample size calculation for a 2.5% margin of error (2 points)\n",
    "# Hint: d_2.5 = 0.025\n",
    "# Hint: n_d_2.5 = z^2 * p * (1 - p) / (d_2.5^2)\n",
    "# Hint: ceiling(n_d_2.5)\n",
    "d_2.5 = \n",
    "n_d_2.5 = \n",
    "ceiling()"
   ]
  },
  {
   "cell_type": "code",
   "execution_count": null,
   "metadata": {},
   "outputs": [],
   "source": [
    "# Sample size calculation for a 7.5% margin of error (1 point)\n",
    "# Hint: d_7.5 = 0.075\n",
    "# Hint: n_d_7.5 = z^2 * p * (1 - p) / (d_7.5^2)\n",
    "# Hint: ceiling(n_d_7.5)\n",
    "d_7.5 = \n",
    "n_d_7.5 = \n",
    "ceiling()"
   ]
  },
  {
   "cell_type": "markdown",
   "metadata": {},
   "source": [
    "❓ **3.1** What happens to required sample size when we decrease margin of error? Why? (2 points)"
   ]
  },
  {
   "cell_type": "raw",
   "metadata": {},
   "source": [
    "Your answer here:"
   ]
  },
  {
   "cell_type": "markdown",
   "metadata": {},
   "source": [
    "---\n",
    "\n",
    "## Question 4: Effect of Confidence Level (4 points)\n",
    "\n",
    "Redo your calculations by changing the confidence levels to 90% and 99% while keeping margin of error at 5%."
   ]
  },
  {
   "cell_type": "code",
   "execution_count": null,
   "metadata": {},
   "outputs": [],
   "source": [
    "# Sample size calculation for a 90% confidence level (2 points)\n",
    "# Hint: z_0.1 = qnorm(0.95)\n",
    "# Hint: n_conf90 = z_0.1^2 * p * (1 - p) / (d^2)\n",
    "# Hint: ceiling(n_conf90)\n",
    "z_0.1 = \n",
    "n_conf90 = \n",
    "ceiling()"
   ]
  },
  {
   "cell_type": "code",
   "execution_count": null,
   "metadata": {},
   "outputs": [],
   "source": [
    "# Sample size calculation for a 99% confidence level (1 point)\n",
    "# Hint: z_0.01 = qnorm(0.995)\n",
    "# Hint: n_conf99 = z_0.01^2 * p * (1 - p) / (d^2)\n",
    "# Hint: ceiling(n_conf99)\n",
    "z_0.01 = \n",
    "n_conf99 = \n",
    "ceiling()"
   ]
  },
  {
   "cell_type": "markdown",
   "metadata": {},
   "source": [
    "❓ **4.1** Report how changing confidence interval affects the number of required samples? (1 point)"
   ]
  },
  {
   "cell_type": "raw",
   "metadata": {},
   "source": [
    "Your answer here:"
   ]
  },
  {
   "cell_type": "markdown",
   "metadata": {},
   "source": [
    "---\n",
    "\n",
    "## 📤 Submission Instructions\n",
    "\n",
    "### How to Submit Your Assignment:\n",
    "\n",
    "1. **Complete all code cells** and answer all questions in the raw text cells above\n",
    "\n",
    "2. **Save your work:**\n",
    "   - Go to **File** → **Save** to save your progress\n",
    "\n",
    "3. **Download your completed notebook:**\n",
    "   - Go to **File** → **Save and Export Notebook As** → **HTML**\n",
    "   - Also go to **File** → **Download** to get the **.ipynb** file\n",
    "\n",
    "4. **Submit to UC Davis Canvas:**\n",
    "   - Upload both the **.html** file and **.ipynb** file\n",
    "   - Make sure your name is in the student information section at the top\n",
    "\n",
    "### 📧 Questions or Need Help?\n",
    "\n",
    "If you have questions about this assignment or need help with R programming, please contact:\n",
    "\n",
    "**Mohammadreza Narimani**  \n",
    "📧 mnarimani@ucdavis.edu  \n",
    "🏫 Department of Biological and Agricultural Engineering, UC Davis\n",
    "\n",
    "---\n",
    "\n",
    "**Good luck with your assignment!** 🍀"
   ]
  }
 ],
 "metadata": {
  "kernelspec": {
   "display_name": "R",
   "language": "R",
   "name": "ir"
  },
  "language_info": {
   "codemirror_mode": "r",
   "file_extension": ".r",
   "mimetype": "text/x-r-source",
   "name": "R",
   "pygments_lexer": "r",
   "version": "4.3.0"
  }
 },
 "nbformat": 4,
 "nbformat_minor": 4
}