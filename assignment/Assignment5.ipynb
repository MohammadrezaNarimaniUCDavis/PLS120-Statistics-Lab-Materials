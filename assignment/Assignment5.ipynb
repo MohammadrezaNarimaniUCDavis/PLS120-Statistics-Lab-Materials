{
 "cells": [
  {
   "cell_type": "markdown",
   "metadata": {},
   "source": [
    "# 📊 Assignment 5: Sample Size Calculation for Public Health Research\n",
    "\n",
    "**Name:** [Your Name Here]  \n",
    "**Student ID:** [Your Student ID]  \n",
    "**Date:** October 29, 2025  \n",
    "**Course:** PLS 120 - Applied Statistics in Agricultural Sciences  \n",
    "**Total Points:** 20\n",
    "\n",
    "---\n",
    "\n",
    "## 📋 Instructions\n",
    "\n",
    "Complete all questions and code blocks. Make sure to:\n",
    "- Fill in your name and student ID above\n",
    "- Write clear, well-commented R code\n",
    "- Answer all written questions in complete sentences\n",
    "- Show all calculations and reasoning\n",
    "\n",
    "---"
   ]
  },
  {
   "cell_type": "markdown",
   "metadata": {},
   "source": [
    "## 🔬 Question 1: Basic Sample Size Calculation\n",
    "\n",
    "Imagine you are a public health researcher tasked with conducting a study to estimate the prevalence of a specific disease (e.g., diabetes, heart disease, cancer) in a given community. Your goal is to determine how large your sample should be to ensure that your estimates are reliable and accurate.\n",
    "\n",
    "For this assignment, we will use **diabetes** with general prevalence rate of **10%** as an example.\n",
    "\n",
    "### Part 1: Using the formula for determining sample size for estimating a proportion with a 95% confidence level and a 5% margin of error for your initial calculation."
   ]
  },
  {
   "cell_type": "code",
   "execution_count": null,
   "metadata": {},
   "outputs": [],
   "source": [
    "# Set the estimated prevalence rate of the disease to 10% \n",
    "\n",
    "\n",
    "# Set the significance level to 0.05 for a 95% confidence level\n",
    "\n",
    "\n",
    "# Calculate the z-score for a 95% confidence level (1 point)\n",
    "\n",
    "\n",
    "# Display the z-score\n",
    "\n",
    "\n",
    "# Set the desired margin of error to 5%\n",
    "\n",
    "\n",
    "# Calculate the required sample size using the formula for proportions (1 point)\n",
    "\n",
    "\n",
    "# Round up the calculated sample size to the nearest whole number\n"
   ]
  },
  {
   "cell_type": "markdown",
   "metadata": {},
   "source": [
    "### Part 1.1: Explain clearly what does 5% margin of error means? (1 point)\n",
    "\n",
    "**Your Answer:**\n",
    "\n",
    "[Write your explanation here]"
   ]
  },
  {
   "cell_type": "markdown",
   "metadata": {},
   "source": [
    "### Part 1.2: If you estimated that 20% of adults in a community have hypertension with a 5% margin of error, does it mean that the actual percentage of the population with hypertension could range from 5% to 20%? (1 point)\n",
    "\n",
    "**Your Answer:**\n",
    "\n",
    "[Write your explanation here]"
   ]
  },
  {
   "cell_type": "markdown",
   "metadata": {},
   "source": [
    "---\n",
    "\n",
    "## 📈 Question 2: Effect of Prevalence Rate on Sample Size\n",
    "\n",
    "Perform calculations for different levels of estimated prevalence (e.g., if the prevalence of the disease is X%, then redo your calculations for 0.5X, 2X, and 3X prevalence rates to understand how the expected prevalence rate affects the required sample size)."
   ]
  },
  {
   "cell_type": "code",
   "execution_count": null,
   "metadata": {},
   "outputs": [],
   "source": [
    "# Sample size calculation for 0.5X prevalence (1 point)\n"
   ]
  },
  {
   "cell_type": "code",
   "execution_count": null,
   "metadata": {},
   "outputs": [],
   "source": [
    "# Sample size calculation for 2X prevalence (1 point)\n"
   ]
  },
  {
   "cell_type": "code",
   "execution_count": null,
   "metadata": {},
   "outputs": [],
   "source": [
    "# Sample size calculation for 3X prevalence (1 point)\n"
   ]
  },
  {
   "cell_type": "markdown",
   "metadata": {},
   "source": [
    "### Part 2.1: What happens to the number of samples when the prevalence increases to 2x and 3x of the original 10% prevalence rate? (1 point)\n",
    "\n",
    "**Your Answer:**\n",
    "\n",
    "[Write your explanation here]"
   ]
  },
  {
   "cell_type": "markdown",
   "metadata": {},
   "source": [
    "---\n",
    "\n",
    "## 🎯 Question 3: Effect of Margin of Error on Sample Size\n",
    "\n",
    "Redo your calculations by changing the margin of error to 2.5% and 7.5% while keeping the confidence level at 95%."
   ]
  },
  {
   "cell_type": "code",
   "execution_count": null,
   "metadata": {},
   "outputs": [],
   "source": [
    "# Sample size calculation for a 2.5% margin of error (1 point)\n"
   ]
  },
  {
   "cell_type": "code",
   "execution_count": null,
   "metadata": {},
   "outputs": [],
   "source": [
    "# Sample size calculation for a 7.5% margin of error (1 point)\n"
   ]
  },
  {
   "cell_type": "markdown",
   "metadata": {},
   "source": [
    "### Part 3.1: What happens to required sample size when we decrease margin of error? Why? (2 points)\n",
    "\n",
    "**Your Answer:**\n",
    "\n",
    "[Write your explanation here]"
   ]
  },
  {
   "cell_type": "markdown",
   "metadata": {},
   "source": [
    "---\n",
    "\n",
    "## 🔍 Question 4: Effect of Confidence Level on Sample Size\n",
    "\n",
    "Redo your calculations by changing the confidence levels to 90% and 99% while keeping margin of error at 5%."
   ]
  },
  {
   "cell_type": "code",
   "execution_count": null,
   "metadata": {},
   "outputs": [],
   "source": [
    "# Sample size calculation for a 90% confidence level (1 point)\n"
   ]
  },
  {
   "cell_type": "code",
   "execution_count": null,
   "metadata": {},
   "outputs": [],
   "source": [
    "# Sample size calculation for a 99% confidence level (1 point)\n"
   ]
  },
  {
   "cell_type": "markdown",
   "metadata": {},
   "source": [
    "### Part 4.1: Report how changing confidence interval affects the number of required samples? (1 point)\n",
    "\n",
    "**Your Answer:**\n",
    "\n",
    "[Write your explanation here]"
   ]
  },
  {
   "cell_type": "markdown",
   "metadata": {},
   "source": [
    "---\n",
    "\n",
    "## 📊 Summary Table (Optional - for your reference)\n",
    "\n",
    "Create a summary table of all your calculations to better understand the relationships:\n",
    "\n",
    "| Scenario | Prevalence | Confidence Level | Margin of Error | Sample Size |\n",
    "|----------|------------|------------------|-----------------|-------------|\n",
    "| Original | 10% | 95% | 5% | [Fill in] |\n",
    "| 0.5X Prevalence | 5% | 95% | 5% | [Fill in] |\n",
    "| 2X Prevalence | 20% | 95% | 5% | [Fill in] |\n",
    "| 3X Prevalence | 30% | 95% | 5% | [Fill in] |\n",
    "| Lower Margin | 10% | 95% | 2.5% | [Fill in] |\n",
    "| Higher Margin | 10% | 95% | 7.5% | [Fill in] |\n",
    "| Lower Confidence | 10% | 90% | 5% | [Fill in] |\n",
    "| Higher Confidence | 10% | 99% | 5% | [Fill in] |"
   ]
  },
  {
   "cell_type": "markdown",
   "metadata": {},
   "source": [
    "---\n",
    "\n",
    "## 🎯 Key Formulas Used\n",
    "\n",
    "**Sample Size for Proportions:**\n",
    "$$n = \\frac{z^2 \\times p \\times (1-p)}{d^2}$$\n",
    "\n",
    "Where:\n",
    "- `n` = required sample size\n",
    "- `z` = z-score for desired confidence level\n",
    "- `p` = expected proportion (prevalence)\n",
    "- `d` = desired margin of error\n",
    "\n",
    "**Z-scores for Common Confidence Levels:**\n",
    "- 90% confidence → z ≈ 1.645\n",
    "- 95% confidence → z ≈ 1.96\n",
    "- 99% confidence → z ≈ 2.58\n",
    "\n",
    "---\n",
    "\n",
    "## 📝 Submission Instructions\n",
    "\n",
    "1. Complete all code blocks and written responses\n",
    "2. Run all cells to ensure your code works\n",
    "3. Save your notebook\n",
    "4. Export as HTML or PDF for submission\n",
    "5. Submit through Canvas by the due date\n",
    "\n",
    "---\n",
    "\n",
    "**Total Points: 20**\n",
    "\n",
    "- Question 1: 6 points (2 + 2 + 1 + 1)\n",
    "- Question 2: 5 points (1 + 1 + 1 + 2)\n",
    "- Question 3: 5 points (2 + 3)\n",
    "- Question 4: 4 points (2 + 2)\n",
    "- **Total: 20 points** ✅"
   ]
  }
 ],
 "metadata": {
  "kernelspec": {
   "display_name": "R",
   "language": "R",
   "name": "ir"
  },
  "language_info": {
   "codemirror_mode": "r",
   "file_extension": ".r",
   "mimetype": "text/x-r-source",
   "name": "R",
   "pygments_lexer": "r",
   "version": "4.3.0"
  }
 },
 "nbformat": 4,
 "nbformat_minor": 4
}