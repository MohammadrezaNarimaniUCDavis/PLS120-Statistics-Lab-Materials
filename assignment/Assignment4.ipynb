{
 "cells": [
  {
   "cell_type": "markdown",
   "metadata": {},
   "source": [
    "# 📋 PLS 120 Assignment 4\n",
    "**Applied Statistics in Agriculture**\n",
    "\n",
    "**Binder Developer:** Mohammadreza Narimani  \n",
    "**Assignment Developer:** Parastoo Farajpoor  \n",
    "**Date:** October 22, 2025\n",
    "\n",
    "---"
   ]
  },
  {
   "cell_type": "markdown",
   "metadata": {},
   "source": [
    "## 👤 Student Information\n",
    "**Please fill in your information below:**"
   ]
  },
  {
   "cell_type": "raw",
   "metadata": {},
   "source": [
    "Name: [YOUR NAME]\n",
    "Student ID: [STUDENT ID NUMBER]\n",
    "Date: [Today's DATE]"
   ]
  },
  {
   "cell_type": "markdown",
   "metadata": {},
   "source": [
    "## 📝 Assignment Overview\n",
    "\n",
    "In this assignment, you will use the R programming language to simulate two common probability experiments: flipping a coin and rolling a six-sided dice. The goal is to simulate these experiments 50 times each, calculate the experimental probability of each outcome, and then compare it to the theoretical probability. Additionally, you will create discrete probability distributions for these outcomes and visualize them using R.\n",
    "\n",
    "**Total Points: 20**"
   ]
  },
  {
   "cell_type": "markdown",
   "metadata": {},
   "source": [
    "## RUN THE FOLLOWING CHUNK BEFORE STARTING"
   ]
  },
  {
   "cell_type": "code",
   "execution_count": null,
   "metadata": {},
   "outputs": [],
   "source": [
    "# Libraries are already installed for you in Binder!\n",
    "suppressPackageStartupMessages({\n",
    "  library(ggplot2)\n",
    "})\n",
    "cat(\"✅ Libraries loaded successfully!\")"
   ]
  },
  {
   "cell_type": "markdown",
   "metadata": {},
   "source": [
    "---\n",
    "\n",
    "## PART ONE: Simulation (6 points)\n",
    "\n",
    "**PART 1 - Simulation**: Simulate 50 coin flips and 50 dice rolls."
   ]
  },
  {
   "cell_type": "code",
   "execution_count": null,
   "metadata": {},
   "outputs": [],
   "source": [
    "# Simulate 50 coin flips (3 points)\n",
    "# Hint: Create a vector with \"H\" and \"T\", then use sample() function with size=50 and replace=TRUE\n",
    "# Optional: Use set.seed(123) for reproducible results\n",
    "\n",
    "\n",
    "  \n",
    "# Simulate 50 rolls of a six-sided dice (3 points)\n",
    "# Hint: Use sample() function with numbers 1 to 6, size=50, and replace=TRUE\n",
    "\n"
   ]
  },
  {
   "cell_type": "markdown",
   "metadata": {},
   "source": [
    "---\n",
    "\n",
    "## PART TWO: Probability Calculation (6 points)\n",
    "\n",
    "**Part 2 - Probability Calculation**: Compute the experimental probabilities based on the simulation and compare them to theoretical probabilities."
   ]
  },
  {
   "cell_type": "code",
   "execution_count": null,
   "metadata": {},
   "outputs": [],
   "source": [
    "# Calculate the experimental probability for each outcome of coin flips (Heads or Tails) (2 points)\n",
    "# Hint: First create a table of counts using table() function, then divide by sum() of counts\n",
    "# This gives you the probability for each outcome\n",
    "\n",
    "\n",
    "\n",
    "\n",
    "# Calculate the experimental probability for each outcome of dice rolls (1,2,3,4,5,6) (3 points)\n",
    "# Hint: Same approach as coin - use table() to count occurrences, then divide by total\n",
    "\n",
    "\n"
   ]
  },
  {
   "cell_type": "markdown",
   "metadata": {},
   "source": [
    "❓ **Question**: The theoretical probability for each outcome in a fair coin flip is ½ and for a fair six-sided die roll is ⅙. Compare your experimental probabilities with the theoretical probabilities for coin and dice. Discuss any discrepancies and possible reasons for them. (1 point)"
   ]
  },
  {
   "cell_type": "raw",
   "metadata": {},
   "source": [
    "Your answer here:"
   ]
  },
  {
   "cell_type": "markdown",
   "metadata": {},
   "source": [
    "---\n",
    "\n",
    "## PART THREE: Data Frame and Visualization (8 points)\n",
    "\n",
    "**Part 3 - Creating Data Frame and Visualization**: Create a data frame of both probabilities. Then, create a bar plot of the coin and dice probabilities with `barplot()` or `ggplot`. Remember that the argument in the barplot() should be a vector or table, and the argument inside the ggplot() should be a dataframe."
   ]
  },
  {
   "cell_type": "code",
   "execution_count": null,
   "metadata": {},
   "outputs": [],
   "source": [
    "# Create a data frame that represents the probability distribution of the outcomes of coin flips. (2 points)\n",
    "# Hint: Use data.frame() function on your coin probability table from Part 2\n",
    "# This converts the table into a data frame format needed for ggplot\n",
    "\n",
    "\n",
    "# Create a data frame that represents the discrete probability distribution of the outcomes of dice rolls. (2 points)\n",
    "# Hint: Same as above - use data.frame() on your dice probability table\n",
    "\n",
    "\n"
   ]
  },
  {
   "cell_type": "code",
   "execution_count": null,
   "metadata": {},
   "outputs": [],
   "source": [
    "# bar plot for coin flips (2 points)\n",
    "# You can use either barplot() or ggplot()\n",
    "# Hint for barplot(): Use your probability table directly with barplot() function\n",
    "# Hint for ggplot(): Use your data frame with aes(x=outcome_column, y=Freq) + geom_bar(stat=\"identity\")\n",
    "\n",
    "\n"
   ]
  },
  {
   "cell_type": "code",
   "execution_count": null,
   "metadata": {},
   "outputs": [],
   "source": [
    "# bar plot for dice rolls (2 points)\n",
    "# You can use either barplot() or ggplot()\n",
    "# Hint for barplot(): Same approach as coin plot - use your dice probability table\n",
    "# Hint for ggplot(): Use dice data frame with same structure as coin plot\n",
    "\n",
    "\n"
   ]
  },
  {
   "cell_type": "markdown",
   "metadata": {},
   "source": [
    "---\n",
    "\n",
    "## 📤 Submission Instructions\n",
    "\n",
    "### How to Submit Your Assignment:\n",
    "\n",
    "1. **Complete all code cells** and answer all questions in the raw text cells above\n",
    "\n",
    "2. **Save your work:**\n",
    "   - Go to **File** → **Save** to save your progress\n",
    "\n",
    "3. **Download your completed notebook:**\n",
    "   - Go to **File** → **Save and Export Notebook As** → **HTML**\n",
    "   - Also go to **File** → **Download** to get the **.ipynb** file\n",
    "\n",
    "4. **Submit to UC Davis Canvas:**\n",
    "   - Upload both the **.html** file and **.ipynb** file\n",
    "   - Make sure your name is in the student information section at the top\n",
    "\n",
    "### 📧 Questions or Need Help?\n",
    "\n",
    "If you have questions about this assignment or need help with R programming, please contact:\n",
    "\n",
    "**Mohammadreza Narimani**  \n",
    "📧 mnarimani@ucdavis.edu  \n",
    "🏫 Department of Biological and Agricultural Engineering, UC Davis\n",
    "\n",
    "---\n",
    "\n",
    "**Good luck with your assignment!** 🍀"
   ]
  }
 ],
 "metadata": {
  "kernelspec": {
   "display_name": "R",
   "language": "R",
   "name": "ir"
  },
  "language_info": {
   "codemirror_mode": "r",
   "file_extension": ".r",
   "mimetype": "text/x-r-source",
   "name": "R",
   "pygments_lexer": "r",
   "version": "4.3.0"
  }
 },
 "nbformat": 4,
 "nbformat_minor": 4
}