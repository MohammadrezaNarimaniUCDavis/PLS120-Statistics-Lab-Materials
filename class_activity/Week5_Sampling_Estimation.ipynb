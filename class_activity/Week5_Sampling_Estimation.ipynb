{
 "cells": [
  {
   "cell_type": "markdown",
   "metadata": {},
   "source": [
    "# 📊 PLS 120 - Week 5: Sampling and Estimation\n",
    "\n",
    "**Binder Developer:** Mohammadreza Narimani  \n",
    "**Lab Content Creator:** Parastoo Farajpoor  \n",
    "**Date:** October 29, 2025  \n",
    "**Course:** Applied Statistics in Agricultural Sciences\n",
    "\n",
    "---"
   ]
  },
  {
   "cell_type": "markdown",
   "metadata": {},
   "source": [
    "## 🔧 Setup: Load Required Packages"
   ]
  },
  {
   "cell_type": "code",
   "execution_count": null,
   "metadata": {},
   "outputs": [],
   "source": [
    "# Load required packages\n",
    "library(ggplot2)\n",
    "library(tigerstats)"
   ]
  },
  {
   "cell_type": "markdown",
   "metadata": {},
   "source": [
    "---\n",
    "\n",
    "## 🎲 set.seed() function\n",
    "\n",
    "For today's lab, let's first discuss about set.seed() function. The set.seed() function in R is critical for creating reproducible research, especially when involving random number generation. This function sets the seed of R's random number generator, which is essential for ensuring that the results of random processes are reproducible.\n",
    "\n",
    "**Usage:**\n",
    "```r\n",
    "set.seed(value)\n",
    "```\n",
    "\n",
    "- **value**: An integer used to initialize the random number generator.\n",
    "\n",
    "**Example:**"
   ]
  },
  {
   "cell_type": "code",
   "execution_count": null,
   "metadata": {},
   "outputs": [],
   "source": [
    "dataset <- iris\n",
    "\n",
    "#let's sample 10 row indices from the iris data set. Every time you run the sample function, it will select different row indices.\n",
    "random_rows <- sample(nrow(dataset), size = 10, replace = FALSE)\n",
    "random_rows"
   ]
  },
  {
   "cell_type": "markdown",
   "metadata": {},
   "source": [
    "The value inside the set.seed() function is called the 'seed'. The seed can be any integer, and the specific number doesn't usually matter unless you need to reproduce results exactly. Often, people use easy-to-remember numbers like 123, 42, or 2023."
   ]
  },
  {
   "cell_type": "code",
   "execution_count": null,
   "metadata": {},
   "outputs": [],
   "source": [
    "# Set the seed\n",
    "set.seed(123)\n",
    "\n",
    "#Let's sample again\n",
    "random_rows <- sample(nrow(dataset), size = 10, replace = FALSE)\n",
    "random_rows"
   ]
  },
  {
   "cell_type": "markdown",
   "metadata": {},
   "source": [
    "We can also change the number of seeds in our code."
   ]
  },
  {
   "cell_type": "code",
   "execution_count": null,
   "metadata": {},
   "outputs": [],
   "source": [
    "# Set the seed\n",
    "set.seed(42)\n",
    "\n",
    "#Let's sample again\n",
    "random_rows <- sample(nrow(dataset), size = 10, replace = FALSE)\n",
    "random_rows"
   ]
  },
  {
   "cell_type": "markdown",
   "metadata": {},
   "source": [
    "---\n",
    "\n",
    "## 📏 Z-score\n",
    "\n",
    "Z-scores help us **standardize** data by converting values to standard deviations from the mean. This makes it easier to:\n",
    "- Compare values from different datasets\n",
    "- Identify outliers\n",
    "- Calculate probabilities\n",
    "\n",
    "### Formula:\n",
    "$$z = \\frac{x - \\mu}{\\sigma}$$\n",
    "\n",
    "Where:\n",
    "- `x` = individual value\n",
    "- `μ` = mean\n",
    "- `σ` = standard deviation"
   ]
  },
  {
   "cell_type": "code",
   "execution_count": null,
   "metadata": {},
   "outputs": [],
   "source": [
    "set.seed(12)\n",
    "\n",
    "#generate 100 random numbers that have a normal distribution with a mean of 50 and standard deviation of 25\n",
    "normal <- rnorm(100, mean=50, sd=25)\n",
    "normal\n",
    "\n",
    "df_normal <- data.frame(normal)\n",
    "ggplot(df_normal,aes(x=normal))+geom_density()\n",
    "\n",
    "\n",
    "z_normal <- (normal - mean(normal)) / sd(normal)\n",
    "z_normal\n",
    "\n",
    "df_z_normal <- data.frame(z_normal)\n",
    "ggplot(df_z_normal,aes(x=z_normal))+geom_density()\n",
    "\n",
    "#Notice how the y axis units also changes when we plot the standardized data. The reason is original data have been compressed to a smaller range in z-score values."
   ]
  },
  {
   "cell_type": "markdown",
   "metadata": {},
   "source": [
    "To find the area under the curve of a standard normal distribution for z≤ 2, you can use the cumulative distribution function (CDF). In R, this can be accomplished using the pnorm() function, which provides the probability that a standard normal variable is less than or equal to a given value.\n",
    "\n",
    "### pnorm() Function:\n",
    "$$P(Z \\leq z) = \\text{pnorm}(z)$$"
   ]
  },
  {
   "cell_type": "code",
   "execution_count": null,
   "metadata": {},
   "outputs": [],
   "source": [
    "# Define the z-value\n",
    "z_value <- 2\n",
    "\n",
    "# Calculate the area under the curve for z <= 2\n",
    "area_under_curve <- pnorm(z_value)\n",
    "\n",
    "# Print the area under the curve\n",
    "print(area_under_curve)\n",
    "\n",
    "\n",
    "# Visualize this using pnormGC() function inside tigerstats package for better understanding (no need to go into details for this for now)\n",
    "library(tigerstats)\n",
    "pnormGC(z_value, graph = TRUE)"
   ]
  },
  {
   "cell_type": "markdown",
   "metadata": {},
   "source": [
    "To find the z-score related to a specific area under the curve (cumulative probability) of a standard normal distribution, you can use the qnorm() function in R.\n",
    "\n",
    "### qnorm() Function:\n",
    "$$z = \\text{qnorm}(p) \\text{ where } P(Z \\leq z) = p$$"
   ]
  },
  {
   "cell_type": "code",
   "execution_count": null,
   "metadata": {},
   "outputs": [],
   "source": [
    "# Define the cumulative probability\n",
    "area_under_curve <- 0.98\n",
    "\n",
    "# Calculate the z for the area under the curve of 0.98\n",
    "z_value <- qnorm(area_under_curve)\n",
    "\n",
    "# Print the z\n",
    "print(z_value)\n",
    "\n",
    "\n",
    "# Visualize this using qnormGC() function inside tigerstats package for better understanding (no need to go into details for this for now)\n",
    "library(tigerstats)\n",
    "qnormGC(area_under_curve, graph = TRUE)"
   ]
  },
  {
   "cell_type": "markdown",
   "metadata": {},
   "source": [
    "---\n",
    "\n",
    "## 🎯 Confidence Interval\n",
    "\n",
    "Confidence intervals provide an estimated range that is likely to include the true value of an unknown population parameter. This range, along with the confidence level, gives more context to the estimate than a single point estimate like the sample mean. It tells you not only about what you think the true value might be, but also how uncertain you are.\n",
    "\n",
    "When constructing confidence intervals, z-scores are used to determine how wide the interval should be to contain the true population parameter (like a mean or proportion) with a certain level of confidence. This is crucial when you are trying to understand how extreme or typical a particular value is within a distribution. The z-score corresponds to the desired confidence level:\n",
    "\n",
    "- **95% confidence level** typically corresponds to a z-score of approximately **1.96**.\n",
    "- **99% confidence level** corresponds to a z-score of about **2.58**.\n",
    "\n",
    "The above values are derived from the properties of the normal distribution, as confidence intervals often assume that the means of samples are normally distributed around the population mean.\n",
    "\n",
    "### Formula for Confidence Interval:\n",
    "$$CI = \\bar{x} \\pm z_{\\alpha/2} \\times \\frac{s}{\\sqrt{n}}$$\n",
    "\n",
    "Where:\n",
    "- `x̄` = sample mean\n",
    "- `z` = critical z-value\n",
    "- `s` = sample standard deviation\n",
    "- `n` = sample size\n",
    "\n",
    "**Alpha (α)**: it is the significance level. It basically is the probability that the confidence interval does not include the true population parameter. If you have a 95% confidence level, it means you are 95% confident that the confidence intervals constructed from the same population will contain the true population parameter. Correspondingly, alpha would be 100% - 95% = 5% or 0.05. This 5% represents the risk you are taking that your interval might miss the true value. Similarly, for a 99% confidence level, alpha would be 0.01."
   ]
  },
  {
   "cell_type": "code",
   "execution_count": null,
   "metadata": {},
   "outputs": [],
   "source": [
    "# Set the significance level at 5% (alpha = 0.05)\n",
    "alpha = 0.05\n",
    "\n",
    "# Calculate the z-score for a 95% confidence level\n",
    "# We use 1 - alpha / 2 because we are interested in the two-tailed confidence interval\n",
    "z_score = qnorm(1 - alpha / 2)\n",
    "\n",
    "# Print the z-score\n",
    "print(z_score)"
   ]
  },
  {
   "cell_type": "markdown",
   "metadata": {},
   "source": [
    "**Example:**\n",
    "Imagine you are a researcher studying the average amount of time students spend doing homework each week. You randomly select a sample of 100 students and find that they spend an average of 5 hours per week on homework, with a standard deviation of 1 hour.\n",
    "\n",
    "If you wanted to create a 95% confidence interval to estimate the true average for the entire student population, you would:"
   ]
  },
  {
   "cell_type": "code",
   "execution_count": null,
   "metadata": {},
   "outputs": [],
   "source": [
    "# Sample parameters\n",
    "sample_mean <- 5  # sample mean in hours\n",
    "sample_sd <- 1     # sample standard deviation in hours\n",
    "sample_size <- 100 # number of students in the sample\n",
    "\n",
    "# Z-score for a 95% confidence level\n",
    "alpha <- 0.05\n",
    "z_score <- qnorm(1 - alpha / 2)  # Finds the critical z-value\n",
    "\n",
    "# Calculate the margin of error\n",
    "margin_of_error <- z_score * (sample_sd / sqrt(sample_size))\n",
    "margin_of_error\n",
    "\n",
    "# Calculate the confidence interval\n",
    "lower_bound <- sample_mean - margin_of_error\n",
    "lower_bound\n",
    "\n",
    "upper_bound <- sample_mean + margin_of_error\n",
    "upper_bound"
   ]
  },
  {
   "cell_type": "markdown",
   "metadata": {},
   "source": [
    "**Margin of error** measures the range within which the true value (of the population) lies relative to the observed value (from the sample) with a certain level of confidence. Essentially, the margin of error gives you an idea about how close the sample's statistic is likely to be to the true value of the population parameter. In this example, it means we are 95% confident that the mean of all students fall between the lower bound and upper bound.\n",
    "\n",
    "### Margin of Error Formula:\n",
    "$$ME = z_{\\alpha/2} \\times \\frac{s}{\\sqrt{n}}$$"
   ]
  },
  {
   "cell_type": "markdown",
   "metadata": {},
   "source": [
    "---\n",
    "\n",
    "## 📏 Calculating sample size\n",
    "\n",
    "When designing any type of experiment, calculating sample size is a critical first step. By developing an experiment with a sufficient sample size, you can minimize the amount of error, or false positives that are the result of random chance in the data.\n",
    "\n",
    "### Formula for Sample Size (Proportions):\n",
    "$$n = \\frac{z^2 \\times p \\times (1-p)}{d^2}$$\n",
    "\n",
    "Where:\n",
    "- `n` = required sample size\n",
    "- `z` = z-score for desired confidence level\n",
    "- `p` = expected proportion\n",
    "- `d` = desired margin of error\n",
    "\n",
    "**Example:** You are designing an experiment to survey cat ownership on campus, and you want to know if students on campus have cats above or below the national average. Nationally, approximately 20% of people have a cat as a pet. In order to determine whether this is true, you need to collect enough survey information, or need to know how many students to survey."
   ]
  },
  {
   "cell_type": "code",
   "execution_count": null,
   "metadata": {},
   "outputs": [],
   "source": [
    "# Step1: Define the national average of cat ownership as our prevalence rate.\n",
    "prev <- 0.2  # 20% of the national population owns cats\n",
    "\n",
    "\n",
    "# Step 2: Determine the Confidence Level and Calculate Z-Score. Let's say we want to be 90% confident.\n",
    "alpha <- 0.1  # This gives us a 90% confidence level\n",
    "\n",
    "# Calculate the z-score, which defines how many standard deviations away from the mean covers 90% of the normal distribution.\n",
    "z_score <- qnorm(1 - alpha / 2)  # Use 1 - alpha/2 to find the upper percentile\n",
    "z_score\n",
    "\n",
    "\n",
    "# Step 3: Decide on a margin of error. A smaller margin of error means more precision, but requires a larger sample size. Let's say we want 5% margin of error.\n",
    "d <- 0.05 \n",
    "\n",
    "\n",
    "# Step 4:  Calculate the sample size\n",
    "sample_size = z_score^2 * prev * (1 - prev) / (d^2)\n",
    "sample_size\n",
    "\n",
    "# Round up the calculated sample size to the nearest whole number\n",
    "ceiling(sample_size)"
   ]
  },
  {
   "cell_type": "markdown",
   "metadata": {},
   "source": [
    "This calculation tells you how many students you need to survey to be 90% confident that your results are within 5% of the true proportion, assuming cat ownership follows the national average.\n",
    "\n",
    "Now, if we increase the prevalence rate:"
   ]
  },
  {
   "cell_type": "code",
   "execution_count": null,
   "metadata": {},
   "outputs": [],
   "source": [
    "prev <- 0.3\n",
    "alpha <- 0.1\n",
    "\n",
    "z_score <- qnorm(1 - alpha / 2)\n",
    "z_score\n",
    "\n",
    "d <- 0.05 \n",
    "\n",
    "sample_size = z_score^2 * prev * (1 - prev) / (d^2)\n",
    "sample_size\n",
    "\n",
    "ceiling(sample_size)"
   ]
  },
  {
   "cell_type": "markdown",
   "metadata": {},
   "source": [
    "We see that the sample size also increases. It means we need to have more samples to have a good estimate of population parameters.\n",
    "\n",
    "Now, if we want to have more precision and reduce the effect of random chance further, we might want to increase the confidence level and decrease the margin of error."
   ]
  },
  {
   "cell_type": "code",
   "execution_count": null,
   "metadata": {},
   "outputs": [],
   "source": [
    "prev <- 0.3\n",
    "alpha <- 0.01  # Increase confidence level to 99%\n",
    "\n",
    "# Recalculate the z-score for a 99% confidence level\n",
    "z_score <- qnorm(1 - alpha / 2)\n",
    "z_score\n",
    "\n",
    "d <- 0.01  # Reduce the margin of error to 1%\n",
    "\n",
    "# Recalculate the sample size with the new parameters\n",
    "sample_size = z_score^2 * prev * (1 - prev) / (d^2)\n",
    "sample_size\n",
    "\n",
    "\n",
    "# Round up the calculated sample size to the nearest whole number\n",
    "ceiling(sample_size)"
   ]
  },
  {
   "cell_type": "markdown",
   "metadata": {},
   "source": [
    "We see that when we increased the precision, the number of samples also increased. There is always a **trade-off** between the number of samples and the accuracy we are looking for. You should decide based on what is practical for your experiment.\n",
    "\n",
    "### Key Takeaways:\n",
    "- **Higher confidence level** → Larger sample size needed\n",
    "- **Lower margin of error** → Larger sample size needed  \n",
    "- **Higher expected proportion** (up to 0.5) → Larger sample size needed\n",
    "- **Cost vs. Precision**: Balance practical constraints with statistical requirements"
   ]
  },
  {
   "cell_type": "markdown",
   "metadata": {},
   "source": [
    "---\n",
    "\n",
    "## 📧 Need Help?\n",
    "\n",
    "**Mohammadreza Narimani** (Teaching Assistant)  \n",
    "📧 mnarimani@ucdavis.edu  \n",
    "🏫 Department of Biological and Agricultural Engineering, UC Davis  \n",
    "⏰ Office Hours: Thursdays 10 AM - 12 PM (Zoom)  \n",
    "🔗 [Join Zoom Office Hours](https://ucdavis.zoom.us/j/99533096447)\n",
    "\n",
    "---\n",
    "\n",
    "*Last updated: October 2025 | PLS 120 - Applied Statistics in Agricultural Sciences | UC Davis*"
   ]
  }
 ],
 "metadata": {
  "kernelspec": {
   "display_name": "R",
   "language": "R",
   "name": "ir"
  },
  "language_info": {
   "codemirror_mode": "r",
   "file_extension": ".r",
   "mimetype": "text/x-r-source",
   "name": "R",
   "pygments_lexer": "r",
   "version": "4.3.0"
  }
 },
 "nbformat": 4,
 "nbformat_minor": 4
}