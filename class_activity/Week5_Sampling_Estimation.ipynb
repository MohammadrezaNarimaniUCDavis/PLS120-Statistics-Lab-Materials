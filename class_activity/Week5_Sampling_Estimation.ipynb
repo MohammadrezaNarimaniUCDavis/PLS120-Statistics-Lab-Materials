{
 "cells": [
  {
   "cell_type": "markdown",
   "metadata": {},
   "source": [
    "# 📊 PLS 120 - Week 5: Sampling and Estimation\n",
    "\n",
    "**Author:** Mohammadreza Narimani  \n",
    "**Date:** October 29, 2025  \n",
    "**Course:** Applied Statistics in Agricultural Sciences\n",
    "\n",
    "---\n",
    "\n",
    "## 🎯 Learning Objectives\n",
    "\n",
    "By the end of this lab, you will be able to:\n",
    "- Understand and use the `set.seed()` function for reproducible results\n",
    "- Calculate and interpret z-scores for standardizing data\n",
    "- Construct confidence intervals for population parameters\n",
    "- Calculate required sample sizes for experiments\n",
    "- Apply these concepts to agricultural research scenarios\n",
    "\n",
    "---"
   ]
  },
  {
   "cell_type": "markdown",
   "metadata": {},
   "source": [
    "## 🔧 Setup: Load Required Packages\n",
    "\n",
    "Let's start by loading the packages we'll need for today's lab."
   ]
  },
  {
   "cell_type": "code",
   "execution_count": null,
   "metadata": {},
   "outputs": [],
   "source": [
    "# Load required packages\n",
    "library(ggplot2)\n",
    "library(tigerstats)\n",
    "\n",
    "# Display package versions\n",
    "cat(\"📦 Packages loaded successfully!\\n\")\n",
    "cat(\"ggplot2 version:\", as.character(packageVersion(\"ggplot2\")), \"\\n\")\n",
    "cat(\"tigerstats version:\", as.character(packageVersion(\"tigerstats\")), \"\\n\")"
   ]
  },
  {
   "cell_type": "markdown",
   "metadata": {},
   "source": [
    "---\n",
    "\n",
    "## 🎲 Part 1: The set.seed() Function\n",
    "\n",
    "The `set.seed()` function is **critical** for creating reproducible research, especially when working with random number generation. This function sets the seed of R's random number generator, ensuring that random processes produce the same results every time.\n",
    "\n",
    "### Why is this important?\n",
    "- **Reproducible Research**: Others can get the same results as you\n",
    "- **Debugging**: You can recreate the same \"random\" data to test your code\n",
    "- **Scientific Integrity**: Results can be verified and replicated\n",
    "\n",
    "### Usage:\n",
    "```r\n",
    "set.seed(value)\n",
    "```\n",
    "- `value`: Any integer (123, 42, 2025, etc.)"
   ]
  },
  {
   "cell_type": "markdown",
   "metadata": {},
   "source": [
    "### 🧪 Experiment 1: Random Sampling Without set.seed()\n",
    "\n",
    "Let's see what happens when we sample without setting a seed:"
   ]
  },
  {
   "cell_type": "code",
   "execution_count": null,
   "metadata": {},
   "outputs": [],
   "source": [
    "# Load the iris dataset\n",
    "dataset <- iris\n",
    "\n",
    "# Sample 10 row indices from the iris dataset\n",
    "# Every time you run this, it will select different rows!\n",
    "random_rows <- sample(nrow(dataset), size = 10, replace = FALSE)\n",
    "cat(\"Random sample (run 1):\", random_rows, \"\\n\")\n",
    "\n",
    "# Run it again - notice the different results\n",
    "random_rows2 <- sample(nrow(dataset), size = 10, replace = FALSE)\n",
    "cat(\"Random sample (run 2):\", random_rows2, \"\\n\")\n",
    "\n",
    "# Check if they're the same\n",
    "cat(\"Are the samples identical?\", identical(random_rows, random_rows2), \"\\n\")"
   ]
  },
  {
   "cell_type": "markdown",
   "metadata": {},
   "source": [
    "### 🧪 Experiment 2: Random Sampling WITH set.seed()\n",
    "\n",
    "Now let's use `set.seed()` to make our results reproducible:"
   ]
  },
  {
   "cell_type": "code",
   "execution_count": null,
   "metadata": {},
   "outputs": [],
   "source": [
    "# Set the seed to 123\n",
    "set.seed(123)\n",
    "random_rows_seed1 <- sample(nrow(dataset), size = 10, replace = FALSE)\n",
    "cat(\"Sample with seed 123:\", random_rows_seed1, \"\\n\")\n",
    "\n",
    "# Set the same seed again\n",
    "set.seed(123)\n",
    "random_rows_seed2 <- sample(nrow(dataset), size = 10, replace = FALSE)\n",
    "cat(\"Sample with seed 123 (again):\", random_rows_seed2, \"\\n\")\n",
    "\n",
    "# Check if they're identical\n",
    "cat(\"Are the samples identical?\", identical(random_rows_seed1, random_rows_seed2), \"\\n\")"
   ]
  },
  {
   "cell_type": "markdown",
   "metadata": {},
   "source": [
    "### 🧪 Experiment 3: Different Seeds Give Different Results"
   ]
  },
  {
   "cell_type": "code",
   "execution_count": null,
   "metadata": {},
   "outputs": [],
   "source": [
    "# Try different seed values\n",
    "set.seed(42)\n",
    "sample_42 <- sample(nrow(dataset), size = 10, replace = FALSE)\n",
    "cat(\"Sample with seed 42:\", sample_42, \"\\n\")\n",
    "\n",
    "set.seed(2025)\n",
    "sample_2025 <- sample(nrow(dataset), size = 10, replace = FALSE)\n",
    "cat(\"Sample with seed 2025:\", sample_2025, \"\\n\")\n",
    "\n",
    "# Different seeds = different (but reproducible) results\n",
    "cat(\"Are samples from different seeds identical?\", identical(sample_42, sample_2025), \"\\n\")"
   ]
  },
  {
   "cell_type": "markdown",
   "metadata": {},
   "source": [
    "---\n",
    "\n",
    "## 📏 Part 2: Z-Scores (Standardization)\n",
    "\n",
    "Z-scores help us **standardize** data, making it easier to:\n",
    "- Compare values from different datasets\n",
    "- Identify outliers\n",
    "- Calculate probabilities\n",
    "\n",
    "### Formula:\n",
    "$$z = \\frac{x - \\mu}{\\sigma}$$\n",
    "\n",
    "Where:\n",
    "- `x` = individual value\n",
    "- `μ` = mean\n",
    "- `σ` = standard deviation"
   ]
  },
  {
   "cell_type": "markdown",
   "metadata": {},
   "source": [
    "### 🧪 Experiment 4: Creating and Standardizing Data"
   ]
  },
  {
   "cell_type": "code",
   "execution_count": null,
   "metadata": {},
   "outputs": [],
   "source": [
    "# Set seed for reproducibility\n",
    "set.seed(12)\n",
    "\n",
    "# Generate 100 random numbers from normal distribution\n",
    "# Think of this as crop yields (bushels per acre)\n",
    "crop_yields <- rnorm(100, mean = 50, sd = 25)\n",
    "\n",
    "# Display first 10 values\n",
    "cat(\"First 10 crop yields:\", round(crop_yields[1:10], 2), \"\\n\")\n",
    "cat(\"Mean yield:\", round(mean(crop_yields), 2), \"bushels/acre\\n\")\n",
    "cat(\"Standard deviation:\", round(sd(crop_yields), 2), \"bushels/acre\\n\")"
   ]
  },
  {
   "cell_type": "markdown",
   "metadata": {},
   "source": [
    "### 📊 Visualize Original Data"
   ]
  },
  {
   "cell_type": "code",
   "execution_count": null,
   "metadata": {},
   "outputs": [],
   "source": [
    "# Create data frame for plotting\n",
    "df_yields <- data.frame(yields = crop_yields)\n",
    "\n",
    "# Plot original data\n",
    "ggplot(df_yields, aes(x = yields)) +\n",
    "  geom_density(fill = \"lightblue\", alpha = 0.7) +\n",
    "  labs(title = \"Distribution of Crop Yields\",\n",
    "       x = \"Yield (bushels/acre)\",\n",
    "       y = \"Density\") +\n",
    "  theme_minimal()"
   ]
  },
  {
   "cell_type": "markdown",
   "metadata": {},
   "source": [
    "### 🔄 Calculate Z-Scores"
   ]
  },
  {
   "cell_type": "code",
   "execution_count": null,
   "metadata": {},
   "outputs": [],
   "source": [
    "# Calculate z-scores (standardize the data)\n",
    "z_yields <- (crop_yields - mean(crop_yields)) / sd(crop_yields)\n",
    "\n",
    "# Display first 10 z-scores\n",
    "cat(\"First 10 z-scores:\", round(z_yields[1:10], 2), \"\\n\")\n",
    "cat(\"Mean of z-scores:\", round(mean(z_yields), 10), \"\\n\")\n",
    "cat(\"Standard deviation of z-scores:\", round(sd(z_yields), 10), \"\\n\")"
   ]
  },
  {
   "cell_type": "markdown",
   "metadata": {},
   "source": [
    "### 📊 Visualize Standardized Data"
   ]
  },
  {
   "cell_type": "code",
   "execution_count": null,
   "metadata": {},
   "outputs": [],
   "source": [
    "# Create data frame for z-scores\n",
    "df_z_yields <- data.frame(z_scores = z_yields)\n",
    "\n",
    "# Plot standardized data\n",
    "ggplot(df_z_yields, aes(x = z_scores)) +\n",
    "  geom_density(fill = \"lightgreen\", alpha = 0.7) +\n",
    "  labs(title = \"Distribution of Standardized Crop Yields (Z-scores)\",\n",
    "       x = \"Z-score\",\n",
    "       y = \"Density\") +\n",
    "  theme_minimal()\n",
    "\n",
    "# Notice: Same shape, but centered at 0 with SD = 1!"
   ]
  },
  {
   "cell_type": "markdown",
   "metadata": {},
   "source": [
    "---\n",
    "\n",
    "## 📊 Part 3: Working with the Standard Normal Distribution\n",
    "\n",
    "The standard normal distribution (mean = 0, SD = 1) is fundamental for statistical inference."
   ]
  },
  {
   "cell_type": "markdown",
   "metadata": {},
   "source": [
    "### 🧪 Experiment 5: Finding Areas Under the Curve (pnorm)\n",
    "\n",
    "**Question**: What's the probability that a z-score is ≤ 2?"
   ]
  },
  {
   "cell_type": "code",
   "execution_count": null,
   "metadata": {},
   "outputs": [],
   "source": [
    "# Define the z-value\n",
    "z_value <- 2\n",
    "\n",
    "# Calculate the area under the curve for z <= 2\n",
    "area_under_curve <- pnorm(z_value)\n",
    "\n",
    "cat(\"Probability that Z ≤ 2:\", round(area_under_curve, 4), \"\\n\")\n",
    "cat(\"As percentage:\", round(area_under_curve * 100, 2), \"%\\n\")\n",
    "\n",
    "# Visualize this\n",
    "pnormGC(z_value, graph = TRUE)"
   ]
  },
  {
   "cell_type": "markdown",
   "metadata": {},
   "source": [
    "### 🧪 Experiment 6: Finding Z-scores from Areas (qnorm)\n",
    "\n",
    "**Question**: What z-score corresponds to the 98th percentile?"
   ]
  },
  {
   "cell_type": "code",
   "execution_count": null,
   "metadata": {},
   "outputs": [],
   "source": [
    "# Define the cumulative probability (98th percentile)\n",
    "percentile <- 0.98\n",
    "\n",
    "# Find the corresponding z-score\n",
    "z_value <- qnorm(percentile)\n",
    "\n",
    "cat(\"Z-score for 98th percentile:\", round(z_value, 4), \"\\n\")\n",
    "cat(\"This means 98% of values are below z =\", round(z_value, 2), \"\\n\")\n",
    "\n",
    "# Visualize this\n",
    "qnormGC(percentile, graph = TRUE)"
   ]
  },
  {
   "cell_type": "markdown",
   "metadata": {},
   "source": [
    "---\n",
    "\n",
    "## 🎯 Part 4: Confidence Intervals\n",
    "\n",
    "Confidence intervals provide an **estimated range** that likely contains the true population parameter.\n",
    "\n",
    "### Key Concepts:\n",
    "- **Confidence Level**: How confident we are (95%, 99%, etc.)\n",
    "- **Alpha (α)**: Significance level = 1 - Confidence Level\n",
    "- **Margin of Error**: How much uncertainty we have\n",
    "\n",
    "### Common Z-scores:\n",
    "- 90% confidence → z ≈ 1.645\n",
    "- 95% confidence → z ≈ 1.96\n",
    "- 99% confidence → z ≈ 2.58"
   ]
  },
  {
   "cell_type": "markdown",
   "metadata": {},
   "source": [
    "### 🧪 Experiment 7: Calculate Z-score for 95% Confidence"
   ]
  },
  {
   "cell_type": "code",
   "execution_count": null,
   "metadata": {},
   "outputs": [],
   "source": [
    "# Set significance level (alpha = 0.05 for 95% confidence)\n",
    "alpha <- 0.05\n",
    "\n",
    "# Calculate z-score for 95% confidence interval\n",
    "# We use (1 - alpha/2) because it's a two-tailed test\n",
    "z_score <- qnorm(1 - alpha / 2)\n",
    "\n",
    "cat(\"For 95% confidence level:\\n\")\n",
    "cat(\"Alpha (α):\", alpha, \"\\n\")\n",
    "cat(\"Z-score:\", round(z_score, 4), \"\\n\")\n",
    "cat(\"This means we capture the middle 95% of the distribution\\n\")"
   ]
  },
  {
   "cell_type": "markdown",
   "metadata": {},
   "source": [
    "### 🧪 Experiment 8: Real-World Example - Student Study Time\n",
    "\n",
    "**Scenario**: You survey 100 students about weekly study hours.\n",
    "- Sample mean: 5 hours\n",
    "- Sample SD: 1 hour\n",
    "- Sample size: 100 students\n",
    "\n",
    "**Question**: What's the 95% confidence interval for the true population mean?"
   ]
  },
  {
   "cell_type": "code",
   "execution_count": null,
   "metadata": {},
   "outputs": [],
   "source": [
    "# Sample parameters\n",
    "sample_mean <- 5      # hours per week\n",
    "sample_sd <- 1        # hours\n",
    "sample_size <- 100    # number of students\n",
    "\n",
    "# Z-score for 95% confidence\n",
    "alpha <- 0.05\n",
    "z_score <- qnorm(1 - alpha / 2)\n",
    "\n",
    "cat(\"Sample Statistics:\\n\")\n",
    "cat(\"Mean:\", sample_mean, \"hours\\n\")\n",
    "cat(\"SD:\", sample_sd, \"hours\\n\")\n",
    "cat(\"Sample size:\", sample_size, \"students\\n\")\n",
    "cat(\"Z-score (95%):\", round(z_score, 3), \"\\n\\n\")"
   ]
  },
  {
   "cell_type": "code",
   "execution_count": null,
   "metadata": {},
   "outputs": [],
   "source": [
    "# Calculate margin of error\n",
    "standard_error <- sample_sd / sqrt(sample_size)\n",
    "margin_of_error <- z_score * standard_error\n",
    "\n",
    "cat(\"Standard Error:\", round(standard_error, 4), \"\\n\")\n",
    "cat(\"Margin of Error:\", round(margin_of_error, 4), \"hours\\n\\n\")\n",
    "\n",
    "# Calculate confidence interval\n",
    "lower_bound <- sample_mean - margin_of_error\n",
    "upper_bound <- sample_mean + margin_of_error\n",
    "\n",
    "cat(\"95% Confidence Interval:\\n\")\n",
    "cat(\"Lower bound:\", round(lower_bound, 3), \"hours\\n\")\n",
    "cat(\"Upper bound:\", round(upper_bound, 3), \"hours\\n\")\n",
    "cat(\"\\nInterpretation: We are 95% confident that the true average\\n\")\n",
    "cat(\"study time for all students is between\", round(lower_bound, 2), \n",
    "    \"and\", round(upper_bound, 2), \"hours per week.\\n\")"
   ]
  },
  {
   "cell_type": "markdown",
   "metadata": {},
   "source": [
    "---\n",
    "\n",
    "## 📏 Part 5: Sample Size Calculation\n",
    "\n",
    "**Why calculate sample size?**\n",
    "- Ensure sufficient power to detect effects\n",
    "- Minimize costs and time\n",
    "- Meet statistical requirements\n",
    "\n",
    "### Formula for Proportions:\n",
    "$$n = \\frac{z^2 \\times p \\times (1-p)}{d^2}$$\n",
    "\n",
    "Where:\n",
    "- `n` = required sample size\n",
    "- `z` = z-score for desired confidence level\n",
    "- `p` = expected proportion\n",
    "- `d` = desired margin of error"
   ]
  },
  {
   "cell_type": "markdown",
   "metadata": {},
   "source": [
    "### 🧪 Experiment 9: Agricultural Example - Organic Farming Survey\n",
    "\n",
    "**Scenario**: You want to survey farmers about organic practices.\n",
    "- National average: 20% of farmers use organic methods\n",
    "- Desired confidence: 90%\n",
    "- Desired margin of error: 5%\n",
    "\n",
    "**Question**: How many farmers should you survey?"
   ]
  },
  {
   "cell_type": "code",
   "execution_count": null,
   "metadata": {},
   "outputs": [],
   "source": [
    "# Step 1: Define parameters\n",
    "prev <- 0.2           # 20% prevalence (proportion using organic methods)\n",
    "alpha <- 0.1          # 90% confidence level (alpha = 0.1)\n",
    "margin_error <- 0.05  # 5% margin of error\n",
    "\n",
    "cat(\"Survey Parameters:\\n\")\n",
    "cat(\"Expected proportion:\", prev * 100, \"%\\n\")\n",
    "cat(\"Confidence level:\", (1 - alpha) * 100, \"%\\n\")\n",
    "cat(\"Desired margin of error:\", margin_error * 100, \"%\\n\\n\")"
   ]
  },
  {
   "cell_type": "code",
   "execution_count": null,
   "metadata": {},
   "outputs": [],
   "source": [
    "# Step 2: Calculate z-score\n",
    "z_score <- qnorm(1 - alpha / 2)\n",
    "cat(\"Z-score for 90% confidence:\", round(z_score, 3), \"\\n\\n\")\n",
    "\n",
    "# Step 3: Calculate sample size\n",
    "sample_size <- (z_score^2 * prev * (1 - prev)) / (margin_error^2)\n",
    "sample_size_rounded <- ceiling(sample_size)\n",
    "\n",
    "cat(\"Required Sample Size:\\n\")\n",
    "cat(\"Calculated:\", round(sample_size, 2), \"\\n\")\n",
    "cat(\"Rounded up:\", sample_size_rounded, \"farmers\\n\\n\")\n",
    "\n",
    "cat(\"Conclusion: You need to survey at least\", sample_size_rounded, \n",
    "    \"farmers to be 90% confident\\n\")\n",
    "cat(\"that your results are within 5% of the true proportion.\\n\")"
   ]
  },
  {
   "cell_type": "markdown",
   "metadata": {},
   "source": [
    "### 🧪 Experiment 10: Effect of Changing Parameters\n",
    "\n",
    "Let's see how different parameters affect sample size:"
   ]
  },
  {
   "cell_type": "code",
   "execution_count": null,
   "metadata": {},
   "outputs": [],
   "source": [
    "# Function to calculate sample size\n",
    "calculate_sample_size <- function(proportion, confidence_level, margin_error) {\n",
    "  alpha <- 1 - confidence_level\n",
    "  z_score <- qnorm(1 - alpha / 2)\n",
    "  n <- (z_score^2 * proportion * (1 - proportion)) / (margin_error^2)\n",
    "  return(ceiling(n))\n",
    "}\n",
    "\n",
    "# Compare different scenarios\n",
    "scenarios <- data.frame(\n",
    "  Scenario = c(\"Original\", \"Higher Proportion\", \"Higher Confidence\", \"Lower Margin Error\"),\n",
    "  Proportion = c(0.2, 0.3, 0.2, 0.2),\n",
    "  Confidence = c(0.90, 0.90, 0.99, 0.90),\n",
    "  Margin_Error = c(0.05, 0.05, 0.05, 0.01)\n",
    ")\n",
    "\n",
    "# Calculate sample sizes\n",
    "scenarios$Sample_Size <- mapply(calculate_sample_size, \n",
    "                               scenarios$Proportion, \n",
    "                               scenarios$Confidence, \n",
    "                               scenarios$Margin_Error)\n",
    "\n",
    "print(scenarios)"
   ]
  },
  {
   "cell_type": "markdown",
   "metadata": {},
   "source": [
    "### 📊 Visualize Sample Size Effects"
   ]
  },
  {
   "cell_type": "code",
   "execution_count": null,
   "metadata": {},
   "outputs": [],
   "source": [
    "# Create a bar plot\n",
    "ggplot(scenarios, aes(x = Scenario, y = Sample_Size, fill = Scenario)) +\n",
    "  geom_bar(stat = \"identity\", alpha = 0.7) +\n",
    "  geom_text(aes(label = Sample_Size), vjust = -0.5) +\n",
    "  labs(title = \"Required Sample Size Under Different Scenarios\",\n",
    "       x = \"Scenario\",\n",
    "       y = \"Required Sample Size\") +\n",
    "  theme_minimal() +\n",
    "  theme(legend.position = \"none\",\n",
    "        axis.text.x = element_text(angle = 45, hjust = 1))"
   ]
  },
  {
   "cell_type": "markdown",
   "metadata": {},
   "source": [
    "---\n",
    "\n",
    "## 🌾 Part 6: Agricultural Applications\n",
    "\n",
    "Let's apply these concepts to real agricultural scenarios!"
   ]
  },
  {
   "cell_type": "markdown",
   "metadata": {},
   "source": [
    "### 🧪 Experiment 11: Crop Yield Confidence Interval\n",
    "\n",
    "**Scenario**: A farmer wants to estimate average corn yield per acre."
   ]
  },
  {
   "cell_type": "code",
   "execution_count": null,
   "metadata": {},
   "outputs": [],
   "source": [
    "# Simulate crop yield data\n",
    "set.seed(2025)\n",
    "n_fields <- 50\n",
    "corn_yields <- rnorm(n_fields, mean = 180, sd = 25)  # bushels per acre\n",
    "\n",
    "# Calculate sample statistics\n",
    "sample_mean <- mean(corn_yields)\n",
    "sample_sd <- sd(corn_yields)\n",
    "\n",
    "# 95% confidence interval\n",
    "alpha <- 0.05\n",
    "z_score <- qnorm(1 - alpha / 2)\n",
    "margin_error <- z_score * (sample_sd / sqrt(n_fields))\n",
    "\n",
    "lower_ci <- sample_mean - margin_error\n",
    "upper_ci <- sample_mean + margin_error\n",
    "\n",
    "cat(\"🌽 Corn Yield Analysis\\n\")\n",
    "cat(\"Sample size:\", n_fields, \"fields\\n\")\n",
    "cat(\"Sample mean:\", round(sample_mean, 2), \"bushels/acre\\n\")\n",
    "cat(\"Sample SD:\", round(sample_sd, 2), \"bushels/acre\\n\")\n",
    "cat(\"\\n95% Confidence Interval:\\n\")\n",
    "cat(\"[\", round(lower_ci, 2), \",\", round(upper_ci, 2), \"] bushels/acre\\n\")\n",
    "cat(\"\\nInterpretation: We are 95% confident that the true average\\n\")\n",
    "cat(\"corn yield is between\", round(lower_ci, 1), \"and\", round(upper_ci, 1), \"bushels per acre.\\n\")"
   ]
  },
  {
   "cell_type": "markdown",
   "metadata": {},
   "source": [
    "### 🧪 Experiment 12: Pesticide Effectiveness Study Design\n",
    "\n",
    "**Scenario**: Design a study to test if a new pesticide is more effective than the current standard (85% effectiveness)."
   ]
  },
  {
   "cell_type": "code",
   "execution_count": null,
   "metadata": {},
   "outputs": [],
   "source": [
    "# Study parameters\n",
    "current_effectiveness <- 0.85  # 85% effectiveness\n",
    "confidence_level <- 0.95       # 95% confidence\n",
    "margin_error <- 0.03           # 3% margin of error\n",
    "\n",
    "# Calculate required sample size\n",
    "alpha <- 1 - confidence_level\n",
    "z_score <- qnorm(1 - alpha / 2)\n",
    "sample_size <- (z_score^2 * current_effectiveness * (1 - current_effectiveness)) / (margin_error^2)\n",
    "sample_size_rounded <- ceiling(sample_size)\n",
    "\n",
    "cat(\"🐛 Pesticide Effectiveness Study Design\\n\")\n",
    "cat(\"Current effectiveness:\", current_effectiveness * 100, \"%\\n\")\n",
    "cat(\"Desired confidence:\", confidence_level * 100, \"%\\n\")\n",
    "cat(\"Desired precision: ±\", margin_error * 100, \"%\\n\")\n",
    "cat(\"\\nRequired sample size:\", sample_size_rounded, \"test plots\\n\")\n",
    "cat(\"\\nThis means you need to test the new pesticide on at least\\n\")\n",
    "cat(sample_size_rounded, \"plots to detect a 3% difference with 95% confidence.\\n\")"
   ]
  },
  {
   "cell_type": "markdown",
   "metadata": {},
   "source": [
    "---\n",
    "\n",
    "## 🎯 Summary and Key Takeaways\n",
    "\n",
    "### What We Learned Today:\n",
    "\n",
    "1. **`set.seed()`**: Essential for reproducible research\n",
    "2. **Z-scores**: Standardize data for comparison and probability calculations\n",
    "3. **Confidence Intervals**: Estimate population parameters with uncertainty\n",
    "4. **Sample Size**: Calculate how many observations you need\n",
    "5. **Agricultural Applications**: Apply these concepts to real farming scenarios\n",
    "\n",
    "### Key Formulas:\n",
    "- **Z-score**: $z = \\frac{x - \\mu}{\\sigma}$\n",
    "- **Confidence Interval**: $\\bar{x} \\pm z \\times \\frac{s}{\\sqrt{n}}$\n",
    "- **Sample Size**: $n = \\frac{z^2 \\times p \\times (1-p)}{d^2}$\n",
    "\n",
    "### Important R Functions:\n",
    "- `set.seed()`: Set random seed\n",
    "- `pnorm()`: Find probabilities\n",
    "- `qnorm()`: Find quantiles\n",
    "- `rnorm()`: Generate random normal data\n",
    "- `ceiling()`: Round up to nearest integer"
   ]
  },
  {
   "cell_type": "markdown",
   "metadata": {},
   "source": [
    "---\n",
    "\n",
    "## 🏠 Practice Problems\n",
    "\n",
    "Try these on your own:\n",
    "\n",
    "1. **Seed Germination**: If 90% of seeds typically germinate, how many seeds should you test to estimate the germination rate within ±2% with 99% confidence?\n",
    "\n",
    "2. **Fertilizer Effect**: You test a new fertilizer on 25 plots and get an average yield increase of 12 bushels/acre with SD = 4. Calculate the 95% confidence interval.\n",
    "\n",
    "3. **Quality Control**: A food processor wants to ensure that 95% of products meet quality standards. How many products should they test monthly to be 90% confident within ±3%?\n",
    "\n",
    "### Solutions:"
   ]
  },
  {
   "cell_type": "code",
   "execution_count": null,
   "metadata": {},
   "outputs": [],
   "source": [
    "# Problem 1: Seed Germination\n",
    "p1 <- 0.90\n",
    "conf1 <- 0.99\n",
    "margin1 <- 0.02\n",
    "alpha1 <- 1 - conf1\n",
    "z1 <- qnorm(1 - alpha1/2)\n",
    "n1 <- ceiling((z1^2 * p1 * (1-p1)) / margin1^2)\n",
    "cat(\"Problem 1 - Seeds needed:\", n1, \"\\n\")\n",
    "\n",
    "# Problem 2: Fertilizer Effect\n",
    "mean2 <- 12\n",
    "sd2 <- 4\n",
    "n2 <- 25\n",
    "alpha2 <- 0.05\n",
    "z2 <- qnorm(1 - alpha2/2)\n",
    "margin2 <- z2 * (sd2 / sqrt(n2))\n",
    "lower2 <- mean2 - margin2\n",
    "upper2 <- mean2 + margin2\n",
    "cat(\"Problem 2 - 95% CI: [\", round(lower2, 2), \",\", round(upper2, 2), \"] bushels/acre\\n\")\n",
    "\n",
    "# Problem 3: Quality Control\n",
    "p3 <- 0.95\n",
    "conf3 <- 0.90\n",
    "margin3 <- 0.03\n",
    "alpha3 <- 1 - conf3\n",
    "z3 <- qnorm(1 - alpha3/2)\n",
    "n3 <- ceiling((z3^2 * p3 * (1-p3)) / margin3^2)\n",
    "cat(\"Problem 3 - Products to test:\", n3, \"\\n\")"
   ]
  },
  {
   "cell_type": "markdown",
   "metadata": {},
   "source": [
    "---\n",
    "\n",
    "## 📚 Next Week Preview\n",
    "\n",
    "Next week we'll learn about:\n",
    "- Hypothesis testing\n",
    "- t-tests for comparing means\n",
    "- p-values and statistical significance\n",
    "- Type I and Type II errors\n",
    "\n",
    "Great work today! 🎉"
   ]
  }
 ],
 "metadata": {
  "kernelspec": {
   "display_name": "R",
   "language": "R",
   "name": "ir"
  },
  "language_info": {
   "codemirror_mode": "r",
   "file_extension": ".r",
   "mimetype": "text/x-r-source",
   "name": "R",
   "pygments_lexer": "r",
   "version": "4.3.0"
  }
 },
 "nbformat": 4,
 "nbformat_minor": 4
}