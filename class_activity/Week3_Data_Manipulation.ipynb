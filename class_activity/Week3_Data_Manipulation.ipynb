{
 "cells": [
  {
   "cell_type": "markdown",
   "metadata": {},
   "source": [
    "# 🌾 Week 3: Data Manipulation with dplyr\n",
    "**PLS 120 - Applied Statistics in Agriculture**\n",
    "\n",
    "**Binder Developer:** Mohammadreza Narimani  \n",
    "**Lab Content Developer:** Parastoo Farajpoor  \n",
    "**Date:** 2025-10-15\n",
    "\n",
    "This week we'll learn how to manipulate data using the \"dplyr\" package of tidyverse. Tidyverse is a series of tools and functions that can be used for manipulating and organizing data in R. We'll also explore data visualization with ggplot2."
   ]
  },
  {
   "cell_type": "markdown",
   "metadata": {},
   "source": [
    "## 📊 Loading Libraries and Data\n",
    "\n",
    "First, we'll load the dplyr package and the iris dataset we've been working with.\n",
    "\n",
    "**Expected Output:** Libraries will load and the iris dataset will be available for manipulation."
   ]
  },
  {
   "cell_type": "code",
   "execution_count": null,
   "metadata": {},
   "outputs": [],
   "source": [
    "# Load the dplyr package (part of tidyverse)\n",
    "suppressPackageStartupMessages({\n",
    "  library(dplyr)\n",
    "  library(ggplot2)\n",
    "})\n",
    "\n",
    "# Load the iris dataset\n",
    "data <- iris\n",
    "\n",
    "# Examine the structure\n",
    "head(data)\n",
    "str(data)"
   ]
  },
  {
   "cell_type": "markdown",
   "metadata": {},
   "source": [
    "## 🔍 Basic Data Subsetting\n",
    "\n",
    "There are some basic ways to subset the dataset by selecting specific row indices and column indices using brackets.\n",
    "\n",
    "**Expected Output:** You'll see different ways to subset data using row and column indices."
   ]
  },
  {
   "cell_type": "code",
   "execution_count": null,
   "metadata": {},
   "outputs": [],
   "source": [
    "# Subset row 1 column 1. In the bracket, the first number specifies the row number \n",
    "# and the second number specifies the column number.\n",
    "example <- data[1,1]\n",
    "example\n",
    "\n",
    "# Subset row 1, column 1 to 4:\n",
    "example <- data[1,1:4]\n",
    "example\n",
    "\n",
    "# Subset row 1, all columns:\n",
    "example <- data[1, ]\n",
    "head(example)\n",
    "\n",
    "# Subset all rows, column 1:\n",
    "example <- data[, 1]\n",
    "head(example)"
   ]
  },
  {
   "cell_type": "markdown",
   "metadata": {},
   "source": [
    "## 🎯 Data Manipulation with Pipes\n",
    "\n",
    "In tidyverse we separate different parts of the code with a \"pipe\" (%>%). Think of a pipe like a conjunction in a sentence where %>% is equivalent to \"then\".\n",
    "\n",
    "**Expected Output:** You'll learn to use pipes to chain operations together."
   ]
  },
  {
   "cell_type": "code",
   "execution_count": null,
   "metadata": {},
   "outputs": [],
   "source": [
    "# filter() function allows you to subset rows based on criteria\n",
    "# Create subsets for each species\n",
    "setosa_dataset <- data %>% filter(Species == \"setosa\")\n",
    "versicolor_dataset <- data %>% filter(Species == \"versicolor\")\n",
    "virginica_dataset <- data %>% filter(Species == \"virginica\")\n",
    "\n",
    "# Check the number of rows in each subset\n",
    "nrow(setosa_dataset)\n",
    "nrow(versicolor_dataset)\n",
    "nrow(virginica_dataset)\n",
    "\n",
    "# You can also use subset() function\n",
    "setosa_subset <- subset(data, Species == \"setosa\")\n",
    "nrow(setosa_subset)"
   ]
  },
  {
   "cell_type": "markdown",
   "metadata": {},
   "source": [
    "## ✂️ Slicing Rows\n",
    "\n",
    "slice() creates a subset of the dataframe from selected rows based on their row number.\n",
    "\n",
    "**Expected Output:** Different ways to slice rows from the dataset."
   ]
  },
  {
   "cell_type": "code",
   "execution_count": null,
   "metadata": {},
   "outputs": [],
   "source": [
    "# slice() rows 10 to 20\n",
    "sliced_10_20 <- data %>% slice(10:20)\n",
    "nrow(sliced_10_20)\n",
    "\n",
    "# slice_head() and slice_tail() subset the top and bottom of the dataset\n",
    "slice_head_5 <- data %>% slice_head(n=5)\n",
    "slice_tail_5 <- data %>% slice_tail(n=10)\n",
    "\n",
    "# slice_sample() randomly selects rows\n",
    "slice_random_5 <- data %>% slice_sample(n=5)\n",
    "head(slice_random_5)"
   ]
  },
  {
   "cell_type": "markdown",
   "metadata": {},
   "source": [
    "## 🎯 Your Turn: Practice Slicing\n",
    "\n",
    "The data has a total of 150 rows. Try different slice functions.\n",
    "\n",
    "**Expected Output:** Different subsets of the iris data."
   ]
  },
  {
   "cell_type": "code",
   "execution_count": null,
   "metadata": {},
   "outputs": [],
   "source": [
    "# Slice 20 rows using different methods\n",
    "# Hint: slice_example_1 <- data %>% slice(40:60)\n",
    "slice_example_1 <-\n",
    "\n",
    "# Hint: slice_example_2 <- data %>% slice_head(n=20)\n",
    "slice_example_2 <-\n",
    "\n",
    "# Hint: slice_example_3 <- data %>% slice_tail(n=20)\n",
    "slice_example_3 <-\n",
    "\n",
    "# Hint: slice_example_4 <- data %>% slice_sample(n=20)\n",
    "slice_example_4 <-\n",
    "\n",
    "# Check the number of rows\n",
    "nrow(slice_example_1)\n",
    "nrow(slice_example_2)"
   ]
  },
  {
   "cell_type": "markdown",
   "metadata": {},
   "source": [
    "## 📋 Selecting Columns\n",
    "\n",
    "Selecting columns is helpful when you have a dataset with lots of variables, but you're only interested in one or two variables.\n",
    "\n",
    "**Expected Output:** Subsets of data with specific columns."
   ]
  },
  {
   "cell_type": "code",
   "execution_count": null,
   "metadata": {},
   "outputs": [],
   "source": [
    "# select() allows you to subset columns by name or column number\n",
    "# Select sepal length and species\n",
    "select_by_sepal_length <- data %>% select(Sepal.Length, Species)\n",
    "head(select_by_sepal_length)\n",
    "\n",
    "# Same thing using column numbers\n",
    "select_by_sepal_length <- data %>% select(1, 5)\n",
    "head(select_by_sepal_length)\n",
    "\n",
    "# Select petal variables\n",
    "select_by_petal <- data %>% select(Petal.Length, Petal.Width)\n",
    "head(select_by_petal)"
   ]
  },
  {
   "cell_type": "markdown",
   "metadata": {},
   "source": [
    "## 🔍 Advanced Column Selection\n",
    "\n",
    "There are several functions for precise column selection: starts_with(), ends_with(), contains(), and matches().\n",
    "\n",
    "**Expected Output:** Different ways to select columns based on patterns."
   ]
  },
  {
   "cell_type": "code",
   "execution_count": null,
   "metadata": {},
   "outputs": [],
   "source": [
    "# Select columns that start with \"Sepal\"\n",
    "select_by_sepal <- data %>% select(starts_with(\"Sepal\"))\n",
    "head(select_by_sepal)\n",
    "\n",
    "# Select columns that end with \"Length\"\n",
    "select_by_length <- data %>% select(ends_with(\"Length\"))\n",
    "head(select_by_length)\n",
    "\n",
    "# Select columns that contain \"Petal\"\n",
    "select_by_petal <- data %>% select(contains(\"Petal\"))\n",
    "head(select_by_petal)"
   ]
  },
  {
   "cell_type": "markdown",
   "metadata": {},
   "source": [
    "## 🔗 Combining Functions\n",
    "\n",
    "You can combine slice() and select() functions to choose specific rows and columns.\n",
    "\n",
    "**Expected Output:** Subsets with both specific rows and columns."
   ]
  },
  {
   "cell_type": "code",
   "execution_count": null,
   "metadata": {},
   "outputs": [],
   "source": [
    "# Combine slice() and select() functions\n",
    "# Subset rows 4 to 7 and columns 1 to 2\n",
    "subset_data <- data %>% slice(4:7) %>% select(1:2)\n",
    "subset_data\n",
    "\n",
    "# Same thing using base R\n",
    "subset_data <- data[4:7, 1:2]\n",
    "subset_data"
   ]
  },
  {
   "cell_type": "markdown",
   "metadata": {},
   "source": [
    "## 🔄 Data Manipulation Functions\n",
    "\n",
    "Let's explore arrange(), rename(), and mutate() functions for data manipulation.\n",
    "\n",
    "**Expected Output:** Sorted, renamed, and transformed datasets."
   ]
  },
  {
   "cell_type": "code",
   "execution_count": null,
   "metadata": {},
   "outputs": [],
   "source": [
    "# arrange() orders data along a quantitative variable (ascending by default)\n",
    "sepal_length_arranged_ascending <- data %>% arrange(Sepal.Length)\n",
    "head(sepal_length_arranged_ascending)\n",
    "\n",
    "# Use desc() for descending order\n",
    "sepal_length_arranged_descending <- data %>% arrange(desc(Sepal.Length))\n",
    "head(sepal_length_arranged_descending)\n",
    "\n",
    "# rename() changes column names\n",
    "renamed_data <- data %>% rename(Sepal_Length = Sepal.Length, Plant_Species = Species)\n",
    "head(renamed_data)"
   ]
  },
  {
   "cell_type": "code",
   "execution_count": null,
   "metadata": {},
   "outputs": [],
   "source": [
    "# mutate() adds new columns\n",
    "# Convert measurements to millimeters\n",
    "new_df <- data %>% mutate(mm_Sepal.Length = Sepal.Length * 10)\n",
    "head(new_df %>% select(Sepal.Length, mm_Sepal.Length))"
   ]
  },
  {
   "cell_type": "markdown",
   "metadata": {},
   "source": [
    "## 📊 Grouping and Summarizing Data\n",
    "\n",
    "group_by() lets you group data by variables, and summarize() calculates summary statistics for each group.\n",
    "\n",
    "**Expected Output:** Summary statistics grouped by species."
   ]
  },
  {
   "cell_type": "code",
   "execution_count": null,
   "metadata": {},
   "outputs": [],
   "source": [
    "# Group by species and calculate mean sepal length\n",
    "grouped_df <- data %>% group_by(Species) %>% summarize(mean_sepal_length = mean(Sepal.Length))\n",
    "grouped_df\n",
    "\n",
    "# Calculate multiple statistics\n",
    "grouped_summary <- data %>% \n",
    "  group_by(Species) %>% \n",
    "  summarize(\n",
    "    mean_sepal = mean(Sepal.Length),\n",
    "    sd_sepal = sd(Sepal.Length),\n",
    "    count = n()\n",
    "  )\n",
    "grouped_summary"
   ]
  },
  {
   "cell_type": "markdown",
   "metadata": {},
   "source": [
    "## 🎯 Your Turn: Practice Exercise\n",
    "\n",
    "Create a subset containing only petal widths for the setosa species, then calculate the mean.\n",
    "\n",
    "**Expected Output:** A subset of data and its mean value."
   ]
  },
  {
   "cell_type": "code",
   "execution_count": null,
   "metadata": {},
   "outputs": [],
   "source": [
    "# Create a subset of petal widths for setosa species\n",
    "# Hint: setosa_petal_width <- data %>% filter(Species == \"setosa\") %>% select(Petal.Width)\n",
    "setosa_petal_width <-\n",
    "\n",
    "# Calculate the mean\n",
    "# Hint: mean_setosa_petal_width <- mean(setosa_petal_width$Petal.Width)\n",
    "mean_setosa_petal_width <-\n",
    "\n",
    "# Print the result\n",
    "print(mean_setosa_petal_width)"
   ]
  },
  {
   "cell_type": "markdown",
   "metadata": {},
   "source": [
    "## 📊 Data Visualization with ggplot2\n",
    "\n",
    "Let's create some visualizations using ggplot2 to explore our data.\n",
    "\n",
    "**Expected Output:** Professional-looking plots with customizable aesthetics."
   ]
  },
  {
   "cell_type": "code",
   "execution_count": null,
   "metadata": {},
   "outputs": [],
   "source": [
    "# Create a histogram with ggplot2\n",
    "ggplot(data, aes(x = Petal.Width)) + \n",
    "  geom_histogram(bins = 20, fill = \"lightblue\", color = \"black\") +\n",
    "  labs(title = \"Distribution of Petal Width\", x = \"Petal Width\", y = \"Frequency\")"
   ]
  },
  {
   "cell_type": "code",
   "execution_count": null,
   "metadata": {},
   "outputs": [],
   "source": [
    "# Create a boxplot by species\n",
    "ggplot(data, aes(x = Species, y = Petal.Width, fill = Species)) + \n",
    "  geom_boxplot() +\n",
    "  labs(title = \"Petal Width by Species\", x = \"Species\", y = \"Petal Width\")"
   ]
  },
  {
   "cell_type": "code",
   "execution_count": null,
   "metadata": {},
   "outputs": [],
   "source": [
    "# Create a scatter plot\n",
    "ggplot(data, aes(x = Sepal.Length, y = Sepal.Width, color = Species)) + \n",
    "  geom_point(size = 3) +\n",
    "  labs(title = \"Sepal Length vs Width by Species\", \n",
    "       x = \"Sepal Length\", y = \"Sepal Width\")"
   ]
  },
  {
   "cell_type": "markdown",
   "metadata": {},
   "source": [
    "## 🎯 Your Turn: Create Your Own Plot\n",
    "\n",
    "Create a density plot for sepal length using ggplot2.\n",
    "\n",
    "**Expected Output:** A density plot showing the distribution of sepal length."
   ]
  },
  {
   "cell_type": "code",
   "execution_count": null,
   "metadata": {},
   "outputs": [],
   "source": [
    "# Create a density plot for sepal length\n",
    "# Hint: ggplot(data, aes(x = Sepal.Length)) + geom_density()\n",
    "ggplot(data, aes()) +\n",
    "  geom_density() +\n",
    "  labs(title = \"Distribution of Sepal Length\", x = \"Sepal Length\", y = \"Density\")"
   ]
  },
  {
   "cell_type": "markdown",
   "metadata": {},
   "source": [
    "## 🎉 Congratulations!\n",
    "\n",
    "You've completed Week 3 of PLS 120! You've learned:\n",
    "\n",
    "✅ **Data Subsetting** - Using brackets and indices  \n",
    "✅ **dplyr Functions** - filter(), select(), slice(), arrange()  \n",
    "✅ **Pipes** - Chaining operations with %>%  \n",
    "✅ **Column Selection** - starts_with(), ends_with(), contains()  \n",
    "✅ **Data Manipulation** - rename(), mutate(), group_by()  \n",
    "✅ **Data Visualization** - Creating plots with ggplot2  \n",
    "\n",
    "---\n",
    "\n",
    "## 📧 Questions?\n",
    "\n",
    "If you have more questions about this lab or need help with R programming, please contact:\n",
    "\n",
    "**Mohammadreza Narimani**  \n",
    "📧 mnarimani@ucdavis.edu  \n",
    "🏫 Department of Biological and Agricultural Engineering, UC Davis\n",
    "\n",
    "---\n",
    "\n",
    "*Next week: We'll explore more advanced statistical concepts and analysis!* 🚀"
   ]
  }
 ],
 "metadata": {
  "kernelspec": {
   "display_name": "R",
   "language": "R",
   "name": "ir"
  },
  "language_info": {
   "codemirror_mode": "r",
   "file_extension": ".r",
   "mimetype": "text/x-r-source",
   "name": "R",
   "pygments_lexer": "r",
   "version": "4.3.0"
  }
 },
 "nbformat": 4,
 "nbformat_minor": 4
}