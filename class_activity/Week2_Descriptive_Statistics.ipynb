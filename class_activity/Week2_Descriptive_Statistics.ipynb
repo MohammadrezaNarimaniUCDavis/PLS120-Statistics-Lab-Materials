{
 "cells": [
  {
   "cell_type": "markdown",
   "metadata": {},
   "source": [
    "# 🌾 Week 2: Descriptive Statistics and Central Tendencies\n",
    "**PLS 120 - Applied Statistics in Agriculture**\n",
    "\n",
    "**Binder Developer:** Mohammadreza Narimani  \n",
    "**Lab Content Developer:** PLS 120 TAs  \n",
    "**Date:** 2024-09-10\n",
    "\n",
    "For this lab, we will be looking at descriptions of central tendencies. These are good ways of summarizing and inferring some basic information about the data that we have. There are lots of ways to calculate these in R, as well as provide lots of types of summaries of data."
   ]
  },
  {
   "cell_type": "markdown",
   "metadata": {},
   "source": [
    "## 📊 Loading the Iris Dataset\n",
    "\n",
    "We'll start by loading the iris dataset and examining it using the `View()` function.\n",
    "\n",
    "**Expected Output:** The iris dataset will be loaded into memory and you can view it."
   ]
  },
  {
   "cell_type": "code",
   "execution_count": null,
   "metadata": {},
   "outputs": [],
   "source": [
    "# Load the iris data set\n",
    "data <- iris\n",
    "\n",
    "# To examine data, you can use the View() function\n",
    "# Note: View() opens in a separate window in RStudio, but in Jupyter we can use head() instead\n",
    "head(data)"
   ]
  },
  {
   "cell_type": "markdown",
   "metadata": {},
   "source": [
    "## 📈 Getting Data Summaries\n",
    "\n",
    "Next, let's take a look at the data set and getting a summary. You can do this in a few different ways:\n",
    "\n",
    "- The **`summary()`** function will give you the min, max, mean and median for each of the variables, or one if you choose to subset the data at all. You can also calculate all of these individually using their corresponding functions such as `min()`, `max()`, `mean()` and `median()`.\n",
    "\n",
    "- The **`head()`** function will give you the first six rows of the data set. This can be useful for checking on large data sets to see if they have loaded correctly.\n",
    "\n",
    "- To calculate the **variance** and **standard deviation**, use the `var()` and `sd()` functions.\n",
    "\n",
    "**Expected Output:** You'll see statistical summaries including min, max, mean, median, and quartiles for each variable."
   ]
  },
  {
   "cell_type": "code",
   "execution_count": null,
   "metadata": {},
   "outputs": [],
   "source": [
    "# Use the summary and head functions to get an overview of the iris data\n",
    "# Hint: summary(data)\n",
    "\n",
    "summary()\n",
    "\n",
    "# Hint: head(data)\n",
    "head()"
   ]
  },
  {
   "cell_type": "markdown",
   "metadata": {},
   "source": [
    "## 🎯 Your Turn: Calculate Central Tendencies\n",
    "\n",
    "Now it's your turn to calculate some statistics! Complete the code below to calculate the mean and median for sepal width.\n",
    "\n",
    "**Question:** How do they compare with the mean and median in summary?\n",
    "\n",
    "**Expected Output:** You should see numerical values for mean and median of sepal width."
   ]
  },
  {
   "cell_type": "code",
   "execution_count": null,
   "metadata": {},
   "outputs": [],
   "source": [
    "# Calculate the mean and median for sepal width\n",
    "# How do they compare with the mean and median in summary?\n",
    "\n",
    "# Hint: mean.sepal.width <- mean(data$Sepal.Width)\n",
    "mean.sepal.width <-\n",
    "  \n",
    "# Hint: median.sepal.width <- median(data$Sepal.Width)\n",
    "median.sepal.width <-\n",
    "\n",
    "# Print the values\n",
    "mean.sepal.width\n",
    "median.sepal.width"
   ]
  },
  {
   "cell_type": "markdown",
   "metadata": {},
   "source": [
    "## 📊 Calculating Variance and Standard Deviation\n",
    "\n",
    "Variance and standard deviation are measures of spread in your data. The standard deviation is simply the square root of the variance.\n",
    "\n",
    "**Question:** How do these two values compare to one another?\n",
    "\n",
    "**Expected Output:** You'll see two numerical values - variance will be larger than standard deviation."
   ]
  },
  {
   "cell_type": "code",
   "execution_count": null,
   "metadata": {},
   "outputs": [],
   "source": [
    "# Calculate the variance and standard deviation for sepal width\n",
    "# How do these two values compare to one another?\n",
    "\n",
    "# Hint: var.sepal.width <- var(data$Sepal.Width)\n",
    "var.sepal.width <-\n",
    "  \n",
    "# Hint: sd.sepal.width <- sd(data$Sepal.Width)\n",
    "sd.sepal.width <-\n",
    "\n",
    "# Print the values\n",
    "var.sepal.width\n",
    "sd.sepal.width"
   ]
  },
  {
   "cell_type": "markdown",
   "metadata": {},
   "source": [
    "## 📐 Calculating Quantiles\n",
    "\n",
    "You can also calculate quantiles using `quantile()`. Quantiles divide your data into equal parts.\n",
    "\n",
    "**Question:** How do they compare to the quantiles from the summary?\n",
    "\n",
    "**Expected Output:** You'll see the 0%, 25%, 50%, 75%, and 100% quantiles (min, Q1, median, Q3, max)."
   ]
  },
  {
   "cell_type": "code",
   "execution_count": null,
   "metadata": {},
   "outputs": [],
   "source": [
    "# You can also calculate quantiles using quantile()\n",
    "# How do they compare to the quantiles from the summary?\n",
    "\n",
    "# Hint: quantiles.sepal.width <- quantile(data$Sepal.Width)\n",
    "quantiles.sepal.width <-\n",
    "\n",
    "# Print the values\n",
    "quantiles.sepal.width"
   ]
  },
  {
   "cell_type": "markdown",
   "metadata": {},
   "source": [
    "## ✅ Checking Your Work\n",
    "\n",
    "If everything worked correctly, you should see vectors you created in the global environment. You can also print the values by typing out the vector name in the chunk.\n",
    "\n",
    "**Expected Output:** All your calculated statistics will be displayed together."
   ]
  },
  {
   "cell_type": "code",
   "execution_count": null,
   "metadata": {},
   "outputs": [],
   "source": [
    "# Print all calculated values together\n",
    "mean.sepal.width  \n",
    "median.sepal.width\n",
    "var.sepal.width\n",
    "sd.sepal.width\n",
    "quantiles.sepal.width"
   ]
  },
  {
   "cell_type": "markdown",
   "metadata": {},
   "source": [
    "## 🔢 Calculating Mode (Most Frequent Value)\n",
    "\n",
    "R does not have a built-in function for calculating Mode (most frequent observation). You can build your own functions in R.\n",
    "\n",
    "**Expected Output:** You'll see the most frequently occurring value in the Sepal.Width column."
   ]
  },
  {
   "cell_type": "code",
   "execution_count": null,
   "metadata": {},
   "outputs": [],
   "source": [
    "# Create a custom Mode function\n",
    "Mode <- function(x) {\n",
    "  ux <- unique(x)\n",
    "  ux[which.max(tabulate(match(x, ux)))]\n",
    "}\n",
    "\n",
    "# Calculate mode for sepal width\n",
    "# Hint: mode.sepal.width <- Mode(data$Sepal.Width)\n",
    "mode.sepal.width <- Mode(data$Sepal.Width)\n",
    "mode.sepal.width"
   ]
  },
  {
   "cell_type": "markdown",
   "metadata": {},
   "source": [
    "## ➕ Calculating Sum\n",
    "\n",
    "We have a `sum()` function, which does a summation for all the values you define inside it.\n",
    "\n",
    "**Expected Output:** You'll see the total sum of all sepal width values."
   ]
  },
  {
   "cell_type": "code",
   "execution_count": null,
   "metadata": {},
   "outputs": [],
   "source": [
    "# Calculate the sum of sepal width\n",
    "# Hint: sum_sepal_width <- sum(data$Sepal.Width)\n",
    "sum_sepal_width <- sum(data$Sepal.Width)\n",
    "sum_sepal_width"
   ]
  },
  {
   "cell_type": "markdown",
   "metadata": {},
   "source": [
    "## 📏 Getting Data Dimensions\n",
    "\n",
    "We can have the number of rows and columns in our dataframe using `nrow()` and `ncol()` functions.\n",
    "\n",
    "**Expected Output:** You'll see the number of rows (150) and columns (5) in the iris dataset."
   ]
  },
  {
   "cell_type": "code",
   "execution_count": null,
   "metadata": {},
   "outputs": [],
   "source": [
    "# Get number of rows\n",
    "# Hint: nrows_data <- nrow(data)\n",
    "nrows_data <- nrow(data)\n",
    "nrows_data\n",
    "\n",
    "# Let's double check it with str()\n",
    "str(data)"
   ]
  },
  {
   "cell_type": "code",
   "execution_count": null,
   "metadata": {},
   "outputs": [],
   "source": [
    "# Get number of columns\n",
    "# Hint: ncols_data <- ncol(data)\n",
    "ncols_data <- ncol(data)\n",
    "ncols_data\n",
    "\n",
    "# Let's double check it with str()\n",
    "str(data)"
   ]
  },
  {
   "cell_type": "markdown",
   "metadata": {},
   "source": [
    "## 🎉 Congratulations!\n",
    "\n",
    "You've completed Week 2 of PLS 120! You've learned:\n",
    "\n",
    "✅ **`summary()`** - Get comprehensive statistical summaries  \n",
    "✅ **`head()`** - View the first few rows of data  \n",
    "✅ **`mean()`** - Calculate the average  \n",
    "✅ **`median()`** - Find the middle value  \n",
    "✅ **`var()`** - Calculate variance  \n",
    "✅ **`sd()`** - Calculate standard deviation  \n",
    "✅ **`quantile()`** - Find data quartiles  \n",
    "✅ **Custom Mode function** - Find most frequent value  \n",
    "✅ **`sum()`** - Calculate total sum  \n",
    "✅ **`nrow()` and `ncol()`** - Get data dimensions  \n",
    "\n",
    "---\n",
    "\n",
    "## 📧 Questions?\n",
    "\n",
    "If you have more questions about this lab or need help with R programming, please contact:\n",
    "\n",
    "**Mohammadreza Narimani**  \n",
    "📧 mnarimani@ucdavis.edu  \n",
    "🏫 Department of Biological and Agricultural Engineering, UC Davis\n",
    "\n",
    "---\n",
    "\n",
    "*Next week: We'll explore more advanced statistical concepts and visualizations!* 🚀"
   ]
  }
 ],
 "metadata": {
  "kernelspec": {
   "display_name": "R",
   "language": "R",
   "name": "ir"
  },
  "language_info": {
   "codemirror_mode": "r",
   "file_extension": ".r",
   "mimetype": "text/x-r-source",
   "name": "R",
   "pygments_lexer": "r",
   "version": "4.3.0"
  }
 },
 "nbformat": 4,
 "nbformat_minor": 4
}
