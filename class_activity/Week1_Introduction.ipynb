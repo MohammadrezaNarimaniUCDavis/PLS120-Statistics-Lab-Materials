{
 "cells": [
  {
   "cell_type": "markdown",
   "metadata": {},
   "source": [
    "# Week 1: Introduction to Statistics and R\n",
    "\n",
    "**PLS 120 - Applied Statistics in Agriculture**\n",
    "\n",
    "This lab will cover the basics of R, including loading data, creating vectors, data frames and tables, and making simple plots. Please follow along with the code chunks provided."
   ]
  },
  {
   "cell_type": "markdown",
   "metadata": {},
   "source": [
    "## Data Types in R\n",
    "\n",
    "In R, data can be stored in different types, depending on the kind of information it represents. The basic data types in R are:\n",
    "\n",
    "1. **Integer**: Whole numbers without decimals. Such as 1, 355, etc. Numbers like 2.5, 34.7 are NOT integers.\n",
    "2. **Numeric**: Numbers (both integers and decimals).\n",
    "3. **Character**: Text or string data.\n",
    "4. **Logical**: TRUE or FALSE values.\n",
    "5. **Factor**: Categorical data with levels.\n",
    "\n",
    "We can find out the data type of a variable by using `class()` function. The output of this function is one word, specifying the data type or class.\n",
    "\n",
    "**Expected output**: You'll see data type names like \"numeric\", \"integer\", \"character\", \"logical\""
   ]
  },
  {
   "cell_type": "code",
   "execution_count": null,
   "metadata": {},
   "outputs": [],
   "source": [
    "# Example of an integer variable\n",
    "# Notice how R reads this variable as numeric\n",
    "count <- 10\n",
    "class(count)"
   ]
  },
  {
   "cell_type": "code",
   "execution_count": null,
   "metadata": {},
   "outputs": [],
   "source": [
    "# To define 'count' as integer, you can add 'L' after the value of the variable.\n",
    "count <- 10L\n",
    "class(count)"
   ]
  },
  {
   "cell_type": "code",
   "execution_count": null,
   "metadata": {},
   "outputs": [],
   "source": [
    "# Example of a numeric variable\n",
    "x <- 3.14\n",
    "class(x)  # Returns the type of the object"
   ]
  },
  {
   "cell_type": "code",
   "execution_count": null,
   "metadata": {},
   "outputs": [],
   "source": [
    "# If we want to give our x a value with decimal as an integer, we'll get an error.\n",
    "x <- 3.14L\n",
    "class(x)  # Returns the type of the object"
   ]
  },
  {
   "cell_type": "code",
   "execution_count": null,
   "metadata": {},
   "outputs": [],
   "source": [
    "# Example of a character variable\n",
    "name <- \"Statistics\"\n",
    "class(name)"
   ]
  },
  {
   "cell_type": "code",
   "execution_count": null,
   "metadata": {},
   "outputs": [],
   "source": [
    "# Example of a logical variable\n",
    "is_student <- TRUE\n",
    "class(is_student)"
   ]
  },
  {
   "cell_type": "markdown",
   "metadata": {},
   "source": [
    "## Vectors\n",
    "\n",
    "Vectors are a series of numbers in one dimension. It means that they only have one row, but they can have different columns. Let's define a vector (a series of numbers) and assign the numbers to a variable called 'vector':\n",
    "\n",
    "**Mathematical notation**: A vector can be written as **v** = (v₁, v₂, v₃, ..., vₙ)\n",
    "\n",
    "**Expected output**: You'll see sequences of numbers displayed in brackets like [1] 0 5 6 3 6 9 3"
   ]
  },
  {
   "cell_type": "code",
   "execution_count": null,
   "metadata": {},
   "outputs": [],
   "source": [
    "vector_1 <- c(0, 5, 6, 3, 6, 9, 3) # here we make a vector containing a random series of numbers\n",
    "vector_1"
   ]
  },
  {
   "cell_type": "code",
   "execution_count": null,
   "metadata": {},
   "outputs": [],
   "source": [
    "# make another vector with seven different numbers\n",
    "example_1 <- c()\n",
    "example_1"
   ]
  },
  {
   "cell_type": "code",
   "execution_count": null,
   "metadata": {},
   "outputs": [],
   "source": [
    "# we can use seq() function to create a vector of sequential numbers with our specified range and increments. \n",
    "# The order of arguments in this function should be seq(min, max, increment). \n",
    "# If we want to create a vector of numbers from 4 to 6 with 0.2 increment, we write:\n",
    "vector_2 <- seq(4, 6, 0.2)\n",
    "vector_2"
   ]
  },
  {
   "cell_type": "code",
   "execution_count": null,
   "metadata": {},
   "outputs": [],
   "source": [
    "# using ? before every function will open 'Help' tab to explain it\n",
    "?seq()"
   ]
  },
  {
   "cell_type": "code",
   "execution_count": null,
   "metadata": {},
   "outputs": [],
   "source": [
    "example_2 <- seq(0, 10, 0.15)\n",
    "example_2"
   ]
  },
  {
   "cell_type": "code",
   "execution_count": null,
   "metadata": {},
   "outputs": [],
   "source": [
    "# now that we have two vectors, we can combine them to make a single data frame using the rbind() function\n",
    "df <- rbind(vector_1, example_1)\n",
    "df"
   ]
  },
  {
   "cell_type": "markdown",
   "metadata": {},
   "source": [
    "## Data Frames\n",
    "\n",
    "We often work with data frames, which are in two dimensions. It means that they have multiple rows and multiple columns.\n",
    "\n",
    "For working with data frames, we will first need some data to work with. The R language includes several data sets in the language itself to practice this. For the labs, we will most often be using the \"Iris\" data set, which has data describing different species of flowers. First, we will start by loading in the data into our environment, then using the `str()` function to look at the data structure and describe it. It also tells you whether its a data frame, table or matrix, as well as the dimensions.\n",
    "\n",
    "**Expected output**: You'll see a summary showing data types, dimensions, and first few values of each column"
   ]
  },
  {
   "cell_type": "code",
   "execution_count": null,
   "metadata": {},
   "outputs": [],
   "source": [
    "flower <- iris # here we assign the iris data in R to an object called flower\n",
    "\n",
    "# notice the top right corner in 'environment' tab. if you can see the object up there, the data is loaded successfully\n",
    "str(iris) # now use structure to look at the data"
   ]
  },
  {
   "cell_type": "code",
   "execution_count": null,
   "metadata": {},
   "outputs": [],
   "source": [
    "# data can also be loaded using a comma separated value (csv) file\n",
    "# Note: We'll skip the LA_Crime example since we don't have that file\n",
    "# Instead, let's look at our sample crop data\n",
    "crop_data <- read.csv(\"sample_crop_data.csv\")\n",
    "str(crop_data)"
   ]
  },
  {
   "cell_type": "markdown",
   "metadata": {},
   "source": [
    "The `str()` function tells you about data types:\n",
    "- **num** are numeric values\n",
    "- **chr** are character values\n",
    "- **Factor** are design factors in the experiment\n",
    "- **int** are whole integer values"
   ]
  },
  {
   "cell_type": "markdown",
   "metadata": {},
   "source": [
    "## R as a Calculator\n",
    "\n",
    "However, R doesn't always need data to perform its functions. It also works just like a calculator.\n",
    "\n",
    "**Mathematical operations**: +, -, ×, ÷\n",
    "\n",
    "**Expected output**: You'll see the numerical results of each calculation"
   ]
  },
  {
   "cell_type": "code",
   "execution_count": null,
   "metadata": {},
   "outputs": [],
   "source": [
    "# addition\n",
    "3 + 4"
   ]
  },
  {
   "cell_type": "code",
   "execution_count": null,
   "metadata": {},
   "outputs": [],
   "source": [
    "# subtraction\n",
    "5 - 2"
   ]
  },
  {
   "cell_type": "code",
   "execution_count": null,
   "metadata": {},
   "outputs": [],
   "source": [
    "# multiplication\n",
    "3 * 6"
   ]
  },
  {
   "cell_type": "code",
   "execution_count": null,
   "metadata": {},
   "outputs": [],
   "source": [
    "# division\n",
    "8 / 2"
   ]
  },
  {
   "cell_type": "code",
   "execution_count": null,
   "metadata": {},
   "outputs": [],
   "source": [
    "# what is 22 times 56 plus 8 minus 200?\n",
    "22 * 56 + 8 - 200"
   ]
  },
  {
   "cell_type": "markdown",
   "metadata": {},
   "source": [
    "## Data Visualization\n",
    "\n",
    "Whenever looking at data, a good first step is to take a big picture approach, by looking at the distribution of the data points, and through simple visualization. It's often easier to look at a picture than it is to look at a bunch of numbers.\n",
    "\n",
    "We will start with a frequency table. This is a table that shows the distribution of data given two values. This can also be described as looking at the \"counts\" of the data point. Using the iris data, we will make a frequency table of the sepal length.\n",
    "\n",
    "**Expected output**: You'll see tables showing counts and distributions"
   ]
  },
  {
   "cell_type": "code",
   "execution_count": null,
   "metadata": {},
   "outputs": [],
   "source": [
    "# We've already installed tidyverse for you in this Binder environment\n",
    "library(tidyverse) # add in a package to make the code work"
   ]
  },
  {
   "cell_type": "code",
   "execution_count": null,
   "metadata": {},
   "outputs": [],
   "source": [
    "# How many samples (rows) belongs to each species in Species column (specified with $)\n",
    "table(iris$Species)"
   ]
  },
  {
   "cell_type": "code",
   "execution_count": null,
   "metadata": {},
   "outputs": [],
   "source": [
    "# When you pass two variables to table(), it will count the combinations of values between the two variables. \n",
    "# For example, if we want to see how many times each species has a specific Sepal Length, we write:\n",
    "table(iris$Species, iris$Sepal.Length)\n",
    "# Note that this might be impractical if Sepal.Length has many unique values, so you might want to group them into categories by using cut() which converts continuous data into categorical data based on specified breaks."
   ]
  },
  {
   "cell_type": "code",
   "execution_count": null,
   "metadata": {},
   "outputs": [],
   "source": [
    "# Here we designed a frequency_table as a 'table', then we pick a factor to divide the table down, we specify how it cuts, we will divide the table by a sequence.\n",
    "\n",
    "frequency_table <- table(iris$Species, cut(iris$Sepal.Length, seq(4, 6, 0.2)))\n",
    "frequency_table # run this line to print the table"
   ]
  },
  {
   "cell_type": "code",
   "execution_count": null,
   "metadata": {},
   "outputs": [],
   "source": [
    "frequency_table <- table(iris$Species, cut(iris$Sepal.Length, seq(10, 12, 0.2)))\n",
    "frequency_table"
   ]
  },
  {
   "cell_type": "code",
   "execution_count": null,
   "metadata": {},
   "outputs": [],
   "source": [
    "# how would you remake this table for a different data column in the iris data?\n",
    "# Try it yourself!"
   ]
  },
  {
   "cell_type": "markdown",
   "metadata": {},
   "source": [
    "## Histograms\n",
    "\n",
    "This table is useful, but it can be difficult to interpret. However, you can make a simple graph that visualizes this information. A histogram shows the range of data, location with the highest concentration of measurements, shape of distribution (symmetric or skewed). We will make a histogram, which will show this distribution of the counts. Histograms are also useful because they only require a single function to make.\n",
    "\n",
    "**Mathematical concept**: A histogram displays the frequency distribution of a dataset\n",
    "\n",
    "**Expected output**: You'll see bar charts showing the distribution of data values"
   ]
  },
  {
   "cell_type": "code",
   "execution_count": null,
   "metadata": {},
   "outputs": [],
   "source": [
    "# the function hist() will make a histogram using some vector of data. Here, we use the Sepal Length column in the iris data using $\n",
    "hist(iris$Sepal.Length)"
   ]
  },
  {
   "cell_type": "code",
   "execution_count": null,
   "metadata": {},
   "outputs": [],
   "source": [
    "# now that we have a histogram, we can also adjust how many \"bins\" are made, or how the counts are distributed.\n",
    "hist(iris$Sepal.Length, breaks = 15)\n",
    "# Here, setting breaks = 15 divides the range of Sepal Length into 15 equal-width bins, allowing you to control how fine or coarse the bins are."
   ]
  },
  {
   "cell_type": "code",
   "execution_count": null,
   "metadata": {},
   "outputs": [],
   "source": [
    "# now we have increased the number of bins. What happens when we decrease the number of bins?\n",
    "hist(iris$Sepal.Length, breaks = 2)"
   ]
  }
 ],
 "metadata": {
  "kernelspec": {
   "display_name": "R",
   "language": "R",
   "name": "ir"
  },
  "language_info": {
   "codemirror_mode": "r",
   "file_extension": ".r",
   "mimetype": "text/x-r-source",
   "name": "R",
   "pygments_lexer": "r",
   "version": "4.3.0"
  }
 },
 "nbformat": 4,
 "nbformat_minor": 4
}