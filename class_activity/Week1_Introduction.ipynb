{
 "cells": [
  {
   "cell_type": "markdown",
   "metadata": {},
   "source": [
    "# Week 1: Introduction to Statistics and R 🌾\n",
    "\n",
    "**PLS 120 - Applied Statistics in Agriculture**\n",
    "\n",
    "This lab will cover the basics of R, including loading data, creating vectors, data frames and tables, and making simple plots. Please follow along with the code chunks provided."
   ]
  },
  {
   "cell_type": "markdown",
   "metadata": {},
   "source": [
    "## Required Libraries 📚\n",
    "\n",
    "We've already installed these libraries for you in this Binder environment:\n",
    "- **tidyverse**: Collection of data science packages (ggplot2, dplyr, etc.)\n",
    "- **readr**: For reading data files\n",
    "- **knitr**: For creating reports\n",
    "\n",
    "Let's load the tidyverse package:"
   ]
  },
  {
   "cell_type": "code",
   "execution_count": null,
   "metadata": {},
   "outputs": [],
   "source": [
    "# Load the tidyverse package (already installed for you)\n",
    "library(tidyverse)"
   ]
  },
  {
   "cell_type": "markdown",
   "metadata": {},
   "source": [
    "## Data Types in R 📊\n",
    "\n",
    "In R, data can be stored in different types, depending on the kind of information it represents. The basic data types in R are:\n",
    "\n",
    "1. **Integer**: Whole numbers without decimals (1, 355, etc.)\n",
    "2. **Numeric**: Numbers (both integers and decimals)\n",
    "3. **Character**: Text or string data\n",
    "4. **Logical**: TRUE or FALSE values\n",
    "5. **Factor**: Categorical data with levels\n",
    "\n",
    "We can find out the data type of a variable by using the `class()` function:"
   ]
  },
  {
   "cell_type": "code",
   "execution_count": null,
   "metadata": {},
   "outputs": [],
   "source": [
    "# Example of an integer variable\n",
    "# Notice how R reads this variable as numeric\n",
    "count <- 10\n",
    "class(count)"
   ]
  },
  {
   "cell_type": "code",
   "execution_count": null,
   "metadata": {},
   "outputs": [],
   "source": [
    "# To define 'count' as integer, you can add 'L' after the value\n",
    "count <- 10L\n",
    "class(count)"
   ]
  },
  {
   "cell_type": "code",
   "execution_count": null,
   "metadata": {},
   "outputs": [],
   "source": [
    "# Example of a numeric variable\n",
    "x <- 3.14\n",
    "class(x)  # Returns the type of the object"
   ]
  },
  {
   "cell_type": "code",
   "execution_count": null,
   "metadata": {},
   "outputs": [],
   "source": [
    "# Example of a character variable\n",
    "name <- \"Statistics\"\n",
    "class(name)"
   ]
  },
  {
   "cell_type": "code",
   "execution_count": null,
   "metadata": {},
   "outputs": [],
   "source": [
    "# Example of a logical variable\n",
    "is_student <- TRUE\n",
    "class(is_student)"
   ]
  },
  {
   "cell_type": "markdown",
   "metadata": {},
   "source": [
    "## Working with Vectors 📈\n",
    "\n",
    "Vectors are a series of numbers in one dimension. They only have one row, but can have different columns. Let's define a vector and assign numbers to a variable:"
   ]
  },
  {
   "cell_type": "code",
   "execution_count": null,
   "metadata": {},
   "outputs": [],
   "source": [
    "# Create a vector containing a random series of numbers\n",
    "vector_1 <- c(0, 5, 6, 3, 6, 9, 3)\n",
    "vector_1"
   ]
  },
  {
   "cell_type": "code",
   "execution_count": null,
   "metadata": {},
   "outputs": [],
   "source": [
    "# Your turn: make another vector with seven different numbers\n",
    "example_1 <- c(2, 8, 4, 7, 1, 9, 5)  # Complete this line\n",
    "example_1"
   ]
  },
  {
   "cell_type": "code",
   "execution_count": null,
   "metadata": {},
   "outputs": [],
   "source": [
    "# We can use seq() function to create sequential numbers\n",
    "# seq(min, max, increment)\n",
    "vector_2 <- seq(4, 6, 0.2)\n",
    "vector_2"
   ]
  },
  {
   "cell_type": "code",
   "execution_count": null,
   "metadata": {},
   "outputs": [],
   "source": [
    "# Create another sequence\n",
    "example_2 <- seq(0, 10, 0.15)\n",
    "example_2"
   ]
  },
  {
   "cell_type": "code",
   "execution_count": null,
   "metadata": {},
   "outputs": [],
   "source": [
    "# Combine vectors into a data frame using rbind()\n",
    "df <- rbind(vector_1, example_1)\n",
    "df"
   ]
  },
  {
   "cell_type": "markdown",
   "metadata": {},
   "source": [
    "## R as a Calculator 🧮\n",
    "\n",
    "R doesn't always need data to perform its functions. It also works just like a calculator:"
   ]
  },
  {
   "cell_type": "code",
   "execution_count": null,
   "metadata": {},
   "outputs": [],
   "source": [
    "# Addition\n",
    "3 + 4"
   ]
  },
  {
   "cell_type": "code",
   "execution_count": null,
   "metadata": {},
   "outputs": [],
   "source": [
    "# Subtraction\n",
    "5 - 2"
   ]
  },
  {
   "cell_type": "code",
   "execution_count": null,
   "metadata": {},
   "outputs": [],
   "source": [
    "# Multiplication\n",
    "3 * 6"
   ]
  },
  {
   "cell_type": "code",
   "execution_count": null,
   "metadata": {},
   "outputs": [],
   "source": [
    "# Division\n",
    "8 / 2"
   ]
  },
  {
   "cell_type": "code",
   "execution_count": null,
   "metadata": {},
   "outputs": [],
   "source": [
    "# Your turn: what is 22 times 56 plus 8 minus 200?\n",
    "22 * 56 + 8 - 200"
   ]
  },
  {
   "cell_type": "markdown",
   "metadata": {},
   "source": [
    "## Working with Data Frames 📋\n",
    "\n",
    "Data frames are two-dimensional, meaning they have multiple rows and columns. Let's work with the built-in **iris** dataset, which describes different species of flowers:"
   ]
  },
  {
   "cell_type": "code",
   "execution_count": null,
   "metadata": {},
   "outputs": [],
   "source": [
    "# Assign the iris data to an object called flower\n",
    "flower <- iris\n",
    "\n",
    "# Look at the data structure\n",
    "str(iris)"
   ]
  },
  {
   "cell_type": "code",
   "execution_count": null,
   "metadata": {},
   "outputs": [],
   "source": [
    "# Load our agricultural dataset\n",
    "crop_data <- read.csv(\"sample_crop_data.csv\")\n",
    "str(crop_data)"
   ]
  },
  {
   "cell_type": "markdown",
   "metadata": {},
   "source": [
    "The `str()` function tells you about data types:\n",
    "- **num**: numeric values\n",
    "- **chr**: character values  \n",
    "- **Factor**: design factors in the experiment\n",
    "- **int**: whole integer values"
   ]
  },
  {
   "cell_type": "markdown",
   "metadata": {},
   "source": [
    "## Data Visualization: Frequency Tables 📊\n",
    "\n",
    "When looking at data, a good first step is to take a big picture approach by looking at the distribution of data points through simple visualization. Let's start with frequency tables:"
   ]
  },
  {
   "cell_type": "code",
   "execution_count": null,
   "metadata": {},
   "outputs": [],
   "source": [
    "# How many samples belong to each species?\n",
    "table(iris$Species)"
   ]
  },
  {
   "cell_type": "code",
   "execution_count": null,
   "metadata": {},
   "outputs": [],
   "source": [
    "# Two-way frequency table\n",
    "# Note: This might show many values, so let's group them\n",
    "frequency_table <- table(iris$Species, cut(iris$Sepal.Length, seq(4, 8, 0.5)))\n",
    "frequency_table"
   ]
  },
  {
   "cell_type": "code",
   "execution_count": null,
   "metadata": {},
   "outputs": [],
   "source": [
    "# Your turn: How would you remake this table for Petal.Width?\n",
    "petal_table <- table(iris$Species, cut(iris$Petal.Width, seq(0, 3, 0.5)))\n",
    "petal_table"
   ]
  },
  {
   "cell_type": "markdown",
   "metadata": {},
   "source": [
    "## Data Visualization: Histograms 📈\n",
    "\n",
    "Histograms show the range of data, location with the highest concentration of measurements, and shape of distribution (symmetric or skewed). They're easy to make with just one function:"
   ]
  },
  {
   "cell_type": "code",
   "execution_count": null,
   "metadata": {},
   "outputs": [],
   "source": [
    "# Create a histogram of Sepal Length\n",
    "hist(iris$Sepal.Length,\n",
    "     main = \"Distribution of Sepal Length\",\n",
    "     xlab = \"Sepal Length (cm)\",\n",
    "     col = \"lightblue\")"
   ]
  },
  {
   "cell_type": "code",
   "execution_count": null,
   "metadata": {},
   "outputs": [],
   "source": [
    "# Adjust the number of \"bins\" \n",
    "hist(iris$Sepal.Length, \n",
    "     breaks = 15,\n",
    "     main = \"Sepal Length - More Bins\",\n",
    "     xlab = \"Sepal Length (cm)\",\n",
    "     col = \"lightgreen\")"
   ]
  },
  {
   "cell_type": "code",
   "execution_count": null,
   "metadata": {},
   "outputs": [],
   "source": [
    "# What happens when we decrease the number of bins?\n",
    "hist(iris$Sepal.Length, \n",
    "     breaks = 5,\n",
    "     main = \"Sepal Length - Fewer Bins\",\n",
    "     xlab = \"Sepal Length (cm)\",\n",
    "     col = \"lightcoral\")"
   ]
  },
  {
   "cell_type": "markdown",
   "metadata": {},
   "source": [
    "## Agricultural Data Analysis 🌾\n",
    "\n",
    "Let's apply what we learned to our agricultural dataset:"
   ]
  },
  {
   "cell_type": "code",
   "execution_count": null,
   "metadata": {},
   "outputs": [],
   "source": [
    "# Look at the first few rows of our crop data\n",
    "head(crop_data)"
   ]
  },
  {
   "cell_type": "code",
   "execution_count": null,
   "metadata": {},
   "outputs": [],
   "source": [
    "# Create a frequency table for crop types\n",
    "table(crop_data$crop_type)"
   ]
  },
  {
   "cell_type": "code",
   "execution_count": null,
   "metadata": {},
   "outputs": [],
   "source": [
    "# Create a histogram of crop yields\n",
    "hist(crop_data$yield,\n",
    "     main = \"Distribution of Crop Yields\",\n",
    "     xlab = \"Yield (tons/ha)\",\n",
    "     col = \"gold\",\n",
    "     breaks = 10)"
   ]
  },
  {
   "cell_type": "code",
   "execution_count": null,
   "metadata": {},
   "outputs": [],
   "source": [
    "# Calculate basic statistics\n",
    "mean(crop_data$yield)     # Average yield\n",
    "median(crop_data$yield)   # Median yield\n",
    "max(crop_data$yield)      # Maximum yield\n",
    "min(crop_data$yield)      # Minimum yield"
   ]
  },
  {
   "cell_type": "markdown",
   "metadata": {},
   "source": [
    "## Practice Exercises 🎯\n",
    "\n",
    "Try these exercises to test your understanding:"
   ]
  },
  {
   "cell_type": "code",
   "execution_count": null,
   "metadata": {},
   "outputs": [],
   "source": [
    "# Exercise 1: Create a vector of plant heights\n",
    "plant_heights <- c(25, 30, 28, 32, 27, 29, 31, 26)\n",
    "\n",
    "# Calculate the mean height\n",
    "mean_height <- mean(plant_heights)\n",
    "cat(\"Average plant height:\", mean_height, \"cm\\n\")"
   ]
  },
  {
   "cell_type": "code",
   "execution_count": null,
   "metadata": {},
   "outputs": [],
   "source": [
    "# Exercise 2: Create a histogram of plant heights\n",
    "hist(plant_heights,\n",
    "     main = \"Distribution of Plant Heights\",\n",
    "     xlab = \"Height (cm)\",\n",
    "     col = \"lightgreen\",\n",
    "     breaks = 5)"
   ]
  },
  {
   "cell_type": "code",
   "execution_count": null,
   "metadata": {},
   "outputs": [],
   "source": [
    "# Exercise 3: Explore the relationship between rainfall and yield\n",
    "plot(crop_data$rainfall, crop_data$yield,\n",
    "     main = \"Rainfall vs Crop Yield\",\n",
    "     xlab = \"Rainfall (mm)\",\n",
    "     ylab = \"Yield (tons/ha)\",\n",
    "     col = \"blue\",\n",
    "     pch = 16)"
   ]
  },
  {
   "cell_type": "markdown",
   "metadata": {},
   "source": [
    "## Summary 🎉\n",
    "\n",
    "Congratulations! You've completed Week 1. You learned:\n",
    "\n",
    "✅ **Data types** in R (integer, numeric, character, logical, factor)  \n",
    "✅ **Vectors** and how to create them  \n",
    "✅ **Basic arithmetic** operations  \n",
    "✅ **Data frames** and structure exploration  \n",
    "✅ **Frequency tables** for categorical data  \n",
    "✅ **Histograms** for visualizing distributions  \n",
    "✅ **Agricultural data analysis** with real datasets  \n",
    "\n",
    "**Next week:** We'll dive deeper into descriptive statistics and advanced data visualization!"
   ]
  }
 ],
 "metadata": {
  "kernelspec": {
   "display_name": "R",
   "language": "R",
   "name": "ir"
  },
  "language_info": {
   "codemirror_mode": "r",
   "file_extension": ".r",
   "mimetype": "text/x-r-source",
   "name": "R",
   "pygments_lexer": "r",
   "version": "4.3.0"
  }
 },
 "nbformat": 4,
 "nbformat_minor": 4
}