{
 "cells": [
  {
   "cell_type": "markdown",
   "metadata": {},
   "source": [
    "# 🌾 Week 1: Introduction to R\n",
    "**PLS 120 - Applied Statistics in Agriculture**\n",
    "\n",
    "**Binder Developer:** Mohammadreza Narimani  \n",
    "**Lab Content Developer:** Parastoo Farajpoor  \n",
    "**Date:** 2025-10-01\n",
    "\n",
    "This lab will cover the basics of R, including loading data, creating vectors, data frames and tables, and making simple plots. Please follow along with the code chunks provided."
   ]
  },
  {
   "cell_type": "markdown",
   "metadata": {},
   "source": [
    "## 🔢 Data Types in R\n",
    "\n",
    "In R, data can be stored in different types, depending on the kind of information it represents. The basic data types in R are:\n",
    "\n",
    "1. **Integer**: Whole numbers without decimals. Such as 1, 355, etc. Numbers like 2.5, 34.7 are NOT integers.\n",
    "2. **Numeric**: Numbers (both integers and decimals).\n",
    "3. **Character**: Text or string data.\n",
    "4. **Logical**: TRUE or FALSE values.\n",
    "5. **Factor**: Categorical data with levels.\n",
    "\n",
    "We can find out the data type of a variable by using `class()` function. The output of this function is one word, specifying the data type or class.\n",
    "\n",
    "**Note:** In R, the assignment operator `<-` is equivalent to `=` (like equal sign in math)\n",
    "\n",
    "**Expected Output:** You'll see words like `\"numeric\"`, `\"integer\"`, `\"character\"`, `\"logical\"`"
   ]
  },
  {
   "cell_type": "code",
   "execution_count": null,
   "metadata": {},
   "outputs": [],
   "source": [
    "# Example of an integer variable\n",
    "# Notice how R reads this variable as numeric\n",
    "count <- 10\n",
    "class(count)"
   ]
  },
  {
   "cell_type": "code",
   "execution_count": null,
   "metadata": {},
   "outputs": [],
   "source": [
    "# To define 'count' as integer, you can add 'L' after the value of the variable.\n",
    "count <- 10L\n",
    "class(count)"
   ]
  },
  {
   "cell_type": "code",
   "execution_count": null,
   "metadata": {},
   "outputs": [],
   "source": [
    "# Example of a numeric variable\n",
    "x <- 3.14\n",
    "class(x)  # Returns the type of the object"
   ]
  },
  {
   "cell_type": "code",
   "execution_count": null,
   "metadata": {},
   "outputs": [],
   "source": [
    "# If we want to give our x a value with decimal as an integer, we'll get an error.\n",
    "x <- 3.14L\n",
    "class(x)  # Returns the type of the object"
   ]
  },
  {
   "cell_type": "code",
   "execution_count": null,
   "metadata": {},
   "outputs": [],
   "source": [
    "# Example of a character variable\n",
    "name <- \"Statistics\"\n",
    "class(name)"
   ]
  },
  {
   "cell_type": "code",
   "execution_count": null,
   "metadata": {},
   "outputs": [],
   "source": [
    "# Example of a logical variable\n",
    "is_student <- TRUE\n",
    "class(is_student)"
   ]
  },
  {
   "cell_type": "markdown",
   "metadata": {},
   "source": [
    "## 📊 Working with Vectors\n",
    "\n",
    "Vectors are a series of numbers in one dimension. It means that they only have one row, but they can have different columns. Let's define a vector (a series of numbers) and assign the numbers to a variable called 'vector':\n",
    "\n",
    "**Mathematical notation:** A vector **v** = (v₁, v₂, v₃, ..., vₙ)\n",
    "\n",
    "**Expected Output:** You'll see numbers displayed like: 0 5 6 3 6 9 3"
   ]
  },
  {
   "cell_type": "code",
   "execution_count": null,
   "metadata": {},
   "outputs": [],
   "source": [
    "vector_1 <- c(0, 5, 6, 3, 6, 9, 3) # here we make a vector containing a random series of numbers\n",
    "vector_1"
   ]
  },
  {
   "cell_type": "markdown",
   "metadata": {},
   "source": [
    "### 🎯 Your Turn!\n",
    "Complete the vector below with seven different numbers:"
   ]
  },
  {
   "cell_type": "code",
   "execution_count": null,
   "metadata": {},
   "outputs": [],
   "source": [
    "# make another vector with seven different numbers\n",
    "example_1 <- c(8, 9, 20, 8, 9, 20, 8)  # Example numbers - you can change these!\n",
    "example_1"
   ]
  },
  {
   "cell_type": "markdown",
   "metadata": {},
   "source": [
    "### 🔢 Sequential Vectors\n",
    "\n",
    "We can use `seq()` function to create a vector of sequential numbers with our specified range and increments. \n",
    "\n",
    "**Formula:** `seq(min, max, increment)`\n",
    "\n",
    "**Expected Output:** You'll see evenly spaced numbers like: 4.0 4.2 4.4 4.6 4.8 5.0 5.2 5.4 5.6 5.8 6.0"
   ]
  },
  {
   "cell_type": "code",
   "execution_count": null,
   "metadata": {},
   "outputs": [],
   "source": [
    "# If we want to create a vector of numbers from 4 to 6 with 0.2 increment, we write:\n",
    "vector_2 <- seq(4, 6, 0.2)\n",
    "vector_2\n",
    "?seq() # using ? before every function will open 'Help' tab to explain it"
   ]
  },
  {
   "cell_type": "code",
   "execution_count": null,
   "metadata": {},
   "outputs": [],
   "source": [
    "example_2 <- seq(0, 10, 0.15)\n",
    "example_2"
   ]
  },
  {
   "cell_type": "markdown",
   "metadata": {},
   "source": [
    "### 🔗 Combining Vectors\n",
    "\n",
    "**Expected Output:** You'll see a matrix with 2 rows showing both vectors"
   ]
  },
  {
   "cell_type": "code",
   "execution_count": null,
   "metadata": {},
   "outputs": [],
   "source": [
    "# now that we have two vectors, we can combine them to make a single data frame using the rbind() function\n",
    "suppressWarnings({\n",
    "  df <- rbind(vector_1, example_1)\n",
    "})\n",
    "df"
   ]
  },
  {
   "cell_type": "markdown",
   "metadata": {},
   "source": [
    "## 📋 Data Frames: Working with 2D Data\n",
    "\n",
    "We often work with data frames, which are in two dimensions. It means that they have multiple rows and multiple columns.\n",
    "\n",
    "For working with data frames, we will first need some data to work with. The R language includes several data sets in the language itself to practice this. For the labs, we will most often be using the **\"Iris\"** data set, which has data describing different species of flowers. \n",
    "\n",
    "**Expected Output:** You'll see a structured summary of the iris dataset with 150 observations and 5 variables"
   ]
  },
  {
   "cell_type": "code",
   "execution_count": null,
   "metadata": {},
   "outputs": [],
   "source": [
    "flower <- iris # here we assign the iris data in R to an object called flower\n",
    "\n",
    "# notice the top right corner in 'environment' tab. if you can see the object up there, the data is loaded successfully\n",
    "str(iris) # now use structure to look at the data"
   ]
  },
  {
   "cell_type": "markdown",
   "metadata": {},
   "source": [
    "### 📁 Loading External Data\n",
    "\n",
    "Data can also be loaded using a comma separated value (csv) file. We've included a sample dataset for you!\n",
    "\n",
    "**Expected Output:** You'll see the structure of the LA_Data dataset"
   ]
  },
  {
   "cell_type": "code",
   "execution_count": null,
   "metadata": {},
   "outputs": [],
   "source": [
    "LA_Data <- read.csv(\"LA_Data.csv\") # data can also be loaded using a comma separated value (csv) file\n",
    "?read.csv() \n",
    "\n",
    "str(LA_Data)"
   ]
  },
  {
   "cell_type": "markdown",
   "metadata": {},
   "source": [
    "### 📖 Understanding Data Types\n",
    "\n",
    "The `str()` function tells you about data types:\n",
    "\n",
    "| Type | Description | Example |\n",
    "|------|-------------|----------|\n",
    "| **num** | numeric values | 3.14, 2.5 |\n",
    "| **chr** | character values | \"hello\", \"data\" |\n",
    "| **Factor** | design factors in the experiment | species, treatment |\n",
    "| **int** | whole integer values | 1, 2, 100 |"
   ]
  },
  {
   "cell_type": "markdown",
   "metadata": {},
   "source": [
    "## 🧮 R as a Calculator\n",
    "\n",
    "However, R doesn't always need data to perform its functions. It also works just like a calculator!\n",
    "\n",
    "**Mathematical Operations:** +, -, ×, ÷\n",
    "\n",
    "**Expected Output:** You'll see the numerical results: `7`, `3`, `18`, `4`"
   ]
  },
  {
   "cell_type": "code",
   "execution_count": null,
   "metadata": {},
   "outputs": [],
   "source": [
    "# addition\n",
    "3 + 4"
   ]
  },
  {
   "cell_type": "code",
   "execution_count": null,
   "metadata": {},
   "outputs": [],
   "source": [
    "# subtraction\n",
    "5 - 2"
   ]
  },
  {
   "cell_type": "code",
   "execution_count": null,
   "metadata": {},
   "outputs": [],
   "source": [
    "# multiplication\n",
    "3 * 6"
   ]
  },
  {
   "cell_type": "code",
   "execution_count": null,
   "metadata": {},
   "outputs": [],
   "source": [
    "# division\n",
    "8 / 2"
   ]
  },
  {
   "cell_type": "markdown",
   "metadata": {},
   "source": [
    "### 🎯 Your Turn!\n",
    "Calculate: what is 22 times 56 plus 8 minus 200?"
   ]
  },
  {
   "cell_type": "code",
   "execution_count": null,
   "metadata": {},
   "outputs": [],
   "source": [
    "# what is 22 times 56 plus 8 minus 200?\n",
    "22 * 56 + 8 - 200"
   ]
  },
  {
   "cell_type": "markdown",
   "metadata": {},
   "source": [
    "## 📊 Data Visualization: Getting the Big Picture\n",
    "\n",
    "Whenever looking at data, a good first step is to take a big picture approach, by looking at the distribution of the data points, and through simple visualization. It's often easier to look at a picture than it is to look at a bunch of numbers.\n",
    "\n",
    "We will start with a **frequency table**. This is a table that shows the distribution of data given two values. This can also be described as looking at the \"counts\" of the data point. Using the iris data, we will make a frequency table of the sepal length."
   ]
  },
  {
   "cell_type": "markdown",
   "metadata": {},
   "source": [
    "### 📚 Required Libraries\n",
    "\n",
    "**Good news!** We've already installed the `tidyverse` package for you in this Binder environment. No installation needed!"
   ]
  },
  {
   "cell_type": "code",
   "execution_count": null,
   "metadata": {},
   "outputs": [],
   "source": [
    "# install.packages(tidyverse) # Already installed for you in Binder!\n",
    "suppressPackageStartupMessages({\n",
    "  library(tidyverse) # add in a package to make the code work\n",
    "})\n",
    "cat(\"✅ Tidyverse loaded successfully!\")"
   ]
  },
  {
   "cell_type": "markdown",
   "metadata": {},
   "source": [
    "### 🔢 Simple Frequency Tables\n",
    "\n",
    "**Expected Output:** You'll see a clean table showing counts for each species"
   ]
  },
  {
   "cell_type": "code",
   "execution_count": null,
   "metadata": {},
   "outputs": [],
   "source": [
    "# How many samples (rows) belongs to each species in Species column (specified with $)\n",
    "species_count <- table(iris$Species)\n",
    "knitr::kable(as.data.frame(species_count), col.names = c(\"Species\", \"Count\"))"
   ]
  },
  {
   "cell_type": "markdown",
   "metadata": {},
   "source": [
    "### 📋 Two-Way Frequency Tables\n",
    "\n",
    "**Expected Output:** You'll see a table showing combinations of species and sepal lengths (this will be quite large!)"
   ]
  },
  {
   "cell_type": "code",
   "execution_count": null,
   "metadata": {},
   "outputs": [],
   "source": [
    "# When you pass two variables to table(), it will count the combinations of values between the two variables. \n",
    "# For example, if we want to see how many times each species has a specific Sepal Length, we write:\n",
    "two_way_table <- table(iris$Species, iris$Sepal.Length)\n",
    "# Note that this might be impractical if Sepal.Length has many unique values, so you might want to group them into categories by using cut() which converts continuous data into categorical data based on specified breaks.\n",
    "\n",
    "# Display first few columns to show the concept\n",
    "knitr::kable(two_way_table[, 1:8], caption = \"First 8 Sepal Length values by Species\")"
   ]
  },
  {
   "cell_type": "markdown",
   "metadata": {},
   "source": [
    "### 📊 Grouped Frequency Tables\n",
    "\n",
    "**Expected Output:** You'll see a cleaner table with grouped ranges"
   ]
  },
  {
   "cell_type": "code",
   "execution_count": null,
   "metadata": {},
   "outputs": [],
   "source": [
    "# Here we designed a frequency_table as a 'table', then we pick a factor to divide the table down, we specify how it cuts, we will divide the table by a sequence.\n",
    "\n",
    "frequency_table <- table(iris$Species, cut(iris$Sepal.Length, seq(4, 6, 0.2)))\n",
    "knitr::kable(frequency_table, caption = \"Species by Sepal Length Groups (4.0-6.0)\")"
   ]
  },
  {
   "cell_type": "code",
   "execution_count": null,
   "metadata": {},
   "outputs": [],
   "source": [
    "frequency_table2 <- table(iris$Species, cut(iris$Sepal.Length, seq(10, 12, 0.2)))\n",
    "knitr::kable(frequency_table2, caption = \"Species by Sepal Length Groups (10.0-12.0) - Notice all zeros!\")"
   ]
  },
  {
   "cell_type": "markdown",
   "metadata": {},
   "source": [
    "### 🎯 Your Turn!\n",
    "How would you remake this table for a different data column in the iris data? Try it below!"
   ]
  },
  {
   "cell_type": "code",
   "execution_count": null,
   "metadata": {},
   "outputs": [],
   "source": [
    "# how would you remake this table for a different data column in the iris data?\n",
    "# Hint: Try iris$Petal.Length or iris$Petal.Width\n",
    "# Example solution:\n",
    "petal_table <- table(iris$Species, cut(iris$Petal.Length, seq(1, 7, 1)))\n",
    "knitr::kable(petal_table, caption = \"Species by Petal Length Groups\")"
   ]
  },
  {
   "cell_type": "markdown",
   "metadata": {},
   "source": [
    "## 📈 Histograms: Visualizing Data Distribution\n",
    "\n",
    "This table is useful, but it can be difficult to interpret. However, you can make a simple graph that visualizes this information. A **histogram** shows:\n",
    "- Range of data\n",
    "- Location with the highest concentration of measurements\n",
    "- Shape of distribution (symmetric or skewed)\n",
    "\n",
    "We will make a histogram, which will show this distribution of the counts. Histograms are also useful because they only require a single function to make!\n",
    "\n",
    "**Expected Output:** You'll see bar charts showing the frequency distribution of sepal lengths"
   ]
  },
  {
   "cell_type": "code",
   "execution_count": null,
   "metadata": {},
   "outputs": [],
   "source": [
    "# the function hist() will make a histogram using some vector of data. Here, we use the Sepal Length column in the iris data using $\n",
    "hist(iris$Sepal.Length)"
   ]
  },
  {
   "cell_type": "markdown",
   "metadata": {},
   "source": [
    "### 🎛️ Adjusting Histogram Bins\n",
    "\n",
    "**Expected Output:** You'll see histograms with different levels of detail (more bars vs fewer bars)"
   ]
  },
  {
   "cell_type": "code",
   "execution_count": null,
   "metadata": {},
   "outputs": [],
   "source": [
    "# now that we have a histogram, we can also adjust how many \"bins\" are made, or how the counts are distributed.\n",
    "hist(iris$Sepal.Length, breaks = 15)\n",
    "# Here, setting breaks = 15 divides the range of Sepal Length into 15 equal-width bins, allowing you to control how fine or coarse the bins are."
   ]
  },
  {
   "cell_type": "code",
   "execution_count": null,
   "metadata": {},
   "outputs": [],
   "source": [
    "# now we have increased the number of bins. What happens when we decrease the number of bins?\n",
    "hist(iris$Sepal.Length, breaks = 2)"
   ]
  },
  {
   "cell_type": "markdown",
   "metadata": {},
   "source": [
    "## 🎉 Congratulations!\n",
    "\n",
    "You've completed Week 1 of PLS 120! You've learned:\n",
    "\n",
    "✅ **Data types** in R (integer, numeric, character, logical, factor)  \n",
    "✅ **Assignment operator** `<-` (equivalent to `=`)  \n",
    "✅ **Vectors** and how to create them  \n",
    "✅ **Sequential vectors** using `seq()`  \n",
    "✅ **Data frames** and the `str()` function  \n",
    "✅ **Loading external data** with `read.csv()`  \n",
    "✅ **R as a calculator** for basic arithmetic  \n",
    "✅ **Frequency tables** with `table()`  \n",
    "✅ **Histograms** with `hist()`  \n",
    "\n",
    "---\n",
    "\n",
    "## 📧 Questions?\n",
    "\n",
    "If you have more questions about this lab or need help with R programming, please contact:\n",
    "\n",
    "**Mohammadreza Narimani**  \n",
    "📧 mnarimani@ucdavis.edu  \n",
    "🏫 Department of Biological and Agricultural Engineering, UC Davis\n",
    "\n",
    "---\n",
    "\n",
    "*Next week: We'll dive deeper into descriptive statistics and advanced data visualization!* 🚀"
   ]
  }
 ],
 "metadata": {
  "kernelspec": {
   "display_name": "R",
   "language": "R",
   "name": "ir"
  },
  "language_info": {
   "codemirror_mode": "r",
   "file_extension": ".r",
   "mimetype": "text/x-r-source",
   "name": "R",
   "pygments_lexer": "r",
   "version": "4.3.0"
  }
 },
 "nbformat": 4,
 "nbformat_minor": 4
}